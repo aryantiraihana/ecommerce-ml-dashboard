{
  "cells": [
    {
      "cell_type": "markdown",
      "metadata": {
        "id": "H9wADwK78DCz"
      },
      "source": [
        "# Proyek Analisis Data: [E-Commerce Public]\n",
        "- **Nama:** [Aryanti Raihana Thamrin]\n",
        "- **Email:** [aryantiraihana@gmail.com]\n",
        "- **ID Dicoding:** [hanaaryanti]"
      ]
    },
    {
      "cell_type": "markdown",
      "metadata": {
        "id": "eE0raob58DC0"
      },
      "source": [
        "## Menentukan Pertanyaan Bisnis"
      ]
    },
    {
      "cell_type": "markdown",
      "metadata": {
        "id": "GmQeQ5YF8DC0"
      },
      "source": [
        "- Kategori produk apa yang memiliki rating review paling baik dan buruk?\n",
        "- Apakah ada pola keterlambatan pengiriman berdasarkan kategori keterlambatan?"
      ]
    },
    {
      "cell_type": "markdown",
      "metadata": {
        "id": "H-z4QGlO8DC1"
      },
      "source": [
        "## Import Semua Packages/Library yang Digunakan"
      ]
    },
    {
      "cell_type": "code",
      "execution_count": 407,
      "metadata": {
        "colab": {
          "base_uri": "https://localhost:8080/"
        },
        "id": "GaFQ8iQKyRMS",
        "outputId": "eebd861c-b0a9-48f1-fd80-bfef870e2bd3"
      },
      "outputs": [
        {
          "name": "stdout",
          "output_type": "stream",
          "text": [
            "altair==5.5.0\n",
            "anyio==4.8.0\n",
            "argon2-cffi==23.1.0\n",
            "argon2-cffi-bindings==21.2.0\n",
            "arrow==1.3.0\n",
            "asttokens==3.0.0\n",
            "async-lru==2.0.4\n",
            "attrs==25.1.0\n",
            "babel==2.17.0\n",
            "beautifulsoup4==4.13.3\n",
            "bleach==6.2.0\n",
            "blinker==1.9.0\n",
            "cachetools==5.5.2\n",
            "certifi==2025.1.31\n",
            "cffi==1.17.1\n",
            "charset-normalizer==3.4.1\n",
            "click==8.1.8\n",
            "colorama==0.4.6\n",
            "comm==0.2.2\n",
            "contourpy==1.3.1\n",
            "cycler==0.12.1\n",
            "debugpy==1.8.12\n",
            "decorator==5.2.1\n",
            "defusedxml==0.7.1\n",
            "executing==2.2.0\n",
            "fastjsonschema==2.21.1\n",
            "fonttools==4.56.0\n",
            "fqdn==1.5.1\n",
            "gitdb==4.0.12\n",
            "GitPython==3.1.44\n",
            "h11==0.14.0\n",
            "httpcore==1.0.7\n",
            "httpx==0.28.1\n",
            "idna==3.10\n",
            "ipykernel==6.29.5\n",
            "ipython==8.32.0\n",
            "ipywidgets==8.1.5\n",
            "isoduration==20.11.0\n",
            "jedi==0.19.2\n",
            "Jinja2==3.1.5\n",
            "json5==0.10.0\n",
            "jsonpointer==3.0.0\n",
            "jsonschema==4.23.0\n",
            "jsonschema-specifications==2024.10.1\n",
            "jupyter==1.1.1\n",
            "jupyter-console==6.6.3\n",
            "jupyter-events==0.12.0\n",
            "jupyter-lsp==2.2.5\n",
            "jupyter_client==8.6.3\n",
            "jupyter_core==5.7.2\n",
            "jupyter_server==2.15.0\n",
            "jupyter_server_terminals==0.5.3\n",
            "jupyterlab==4.3.5\n",
            "jupyterlab_pygments==0.3.0\n",
            "jupyterlab_server==2.27.3\n",
            "jupyterlab_widgets==3.0.13\n",
            "kiwisolver==1.4.8\n",
            "markdown-it-py==3.0.0\n",
            "MarkupSafe==3.0.2\n",
            "matplotlib==3.10.0\n",
            "matplotlib-inline==0.1.7\n",
            "mdurl==0.1.2\n",
            "mistune==3.1.2\n",
            "narwhals==1.28.0\n",
            "nbclient==0.10.2\n",
            "nbconvert==7.16.6\n",
            "nbformat==5.10.4\n",
            "nest-asyncio==1.6.0\n",
            "notebook==7.3.2\n",
            "notebook_shim==0.2.4\n",
            "numpy==2.2.3\n",
            "overrides==7.7.0\n",
            "packaging==24.2\n",
            "pandas==2.2.3\n",
            "pandocfilters==1.5.1\n",
            "parso==0.8.4\n",
            "pillow==11.1.0\n",
            "platformdirs==4.3.6\n",
            "prometheus_client==0.21.1\n",
            "prompt_toolkit==3.0.50\n",
            "protobuf==5.29.3\n",
            "psutil==7.0.0\n",
            "pure_eval==0.2.3\n",
            "pyarrow==19.0.1\n",
            "pycparser==2.22\n",
            "pydeck==0.9.1\n",
            "Pygments==2.19.1\n",
            "pyngrok==7.2.3\n",
            "pyparsing==3.2.1\n",
            "python-dateutil==2.9.0.post0\n",
            "python-json-logger==3.2.1\n",
            "pytz==2025.1\n",
            "pywin32==308\n",
            "pywinpty==2.0.15\n",
            "PyYAML==6.0.2\n",
            "pyzmq==26.2.1\n",
            "referencing==0.36.2\n",
            "requests==2.32.3\n",
            "rfc3339-validator==0.1.4\n",
            "rfc3986-validator==0.1.1\n",
            "rich==13.9.4\n",
            "rpds-py==0.23.1\n",
            "scipy==1.15.2\n",
            "seaborn==0.13.2\n",
            "Send2Trash==1.8.3\n",
            "setuptools==75.8.0\n",
            "six==1.17.0\n",
            "smmap==5.0.2\n",
            "sniffio==1.3.1\n",
            "soupsieve==2.6\n",
            "stack-data==0.6.3\n",
            "streamlit==1.42.2\n",
            "tenacity==9.0.0\n",
            "terminado==0.18.1\n",
            "tinycss2==1.4.0\n",
            "toml==0.10.2\n",
            "tornado==6.4.2\n",
            "traitlets==5.14.3\n",
            "types-python-dateutil==2.9.0.20241206\n",
            "typing_extensions==4.12.2\n",
            "tzdata==2025.1\n",
            "uri-template==1.3.0\n",
            "urllib3==2.3.0\n",
            "watchdog==6.0.0\n",
            "wcwidth==0.2.13\n",
            "webcolors==24.11.1\n",
            "webencodings==0.5.1\n",
            "websocket-client==1.8.0\n",
            "widgetsnbextension==4.0.13\n"
          ]
        }
      ],
      "source": [
        "!pip freeze requirements.txt"
      ]
    },
    {
      "cell_type": "code",
      "execution_count": 408,
      "metadata": {
        "id": "FVYwaObI8DC1"
      },
      "outputs": [],
      "source": [
        "import pandas as pd\n",
        "import matplotlib.pyplot as plt\n",
        "import seaborn as sns\n",
        "import numpy as np\n",
        "import streamlit as st"
      ]
    },
    {
      "cell_type": "markdown",
      "metadata": {
        "id": "h_Sh51Xy8DC1"
      },
      "source": [
        "## Data Wrangling"
      ]
    },
    {
      "cell_type": "markdown",
      "metadata": {
        "id": "sXU2GBYu8DC1"
      },
      "source": [
        "### Gathering Data"
      ]
    },
    {
      "cell_type": "code",
      "execution_count": 409,
      "metadata": {
        "colab": {
          "base_uri": "https://localhost:8080/",
          "height": 206
        },
        "id": "zjCBk1BI8DC1",
        "outputId": "51a2b4a9-2182-42a6-8c73-dfe3a11ec073"
      },
      "outputs": [
        {
          "data": {
            "text/html": [
              "<div>\n",
              "<style scoped>\n",
              "    .dataframe tbody tr th:only-of-type {\n",
              "        vertical-align: middle;\n",
              "    }\n",
              "\n",
              "    .dataframe tbody tr th {\n",
              "        vertical-align: top;\n",
              "    }\n",
              "\n",
              "    .dataframe thead th {\n",
              "        text-align: right;\n",
              "    }\n",
              "</style>\n",
              "<table border=\"1\" class=\"dataframe\">\n",
              "  <thead>\n",
              "    <tr style=\"text-align: right;\">\n",
              "      <th></th>\n",
              "      <th>review_id</th>\n",
              "      <th>order_id</th>\n",
              "      <th>review_score</th>\n",
              "      <th>review_comment_title</th>\n",
              "      <th>review_comment_message</th>\n",
              "      <th>review_creation_date</th>\n",
              "      <th>review_answer_timestamp</th>\n",
              "    </tr>\n",
              "  </thead>\n",
              "  <tbody>\n",
              "    <tr>\n",
              "      <th>0</th>\n",
              "      <td>7bc2406110b926393aa56f80a40eba40</td>\n",
              "      <td>73fc7af87114b39712e6da79b0a377eb</td>\n",
              "      <td>4</td>\n",
              "      <td>NaN</td>\n",
              "      <td>NaN</td>\n",
              "      <td>2018-01-18 00:00:00</td>\n",
              "      <td>2018-01-18 21:46:59</td>\n",
              "    </tr>\n",
              "    <tr>\n",
              "      <th>1</th>\n",
              "      <td>80e641a11e56f04c1ad469d5645fdfde</td>\n",
              "      <td>a548910a1c6147796b98fdf73dbeba33</td>\n",
              "      <td>5</td>\n",
              "      <td>NaN</td>\n",
              "      <td>NaN</td>\n",
              "      <td>2018-03-10 00:00:00</td>\n",
              "      <td>2018-03-11 03:05:13</td>\n",
              "    </tr>\n",
              "    <tr>\n",
              "      <th>2</th>\n",
              "      <td>228ce5500dc1d8e020d8d1322874b6f0</td>\n",
              "      <td>f9e4b658b201a9f2ecdecbb34bed034b</td>\n",
              "      <td>5</td>\n",
              "      <td>NaN</td>\n",
              "      <td>NaN</td>\n",
              "      <td>2018-02-17 00:00:00</td>\n",
              "      <td>2018-02-18 14:36:24</td>\n",
              "    </tr>\n",
              "    <tr>\n",
              "      <th>3</th>\n",
              "      <td>e64fb393e7b32834bb789ff8bb30750e</td>\n",
              "      <td>658677c97b385a9be170737859d3511b</td>\n",
              "      <td>5</td>\n",
              "      <td>NaN</td>\n",
              "      <td>Recebi bem antes do prazo estipulado.</td>\n",
              "      <td>2017-04-21 00:00:00</td>\n",
              "      <td>2017-04-21 22:02:06</td>\n",
              "    </tr>\n",
              "    <tr>\n",
              "      <th>4</th>\n",
              "      <td>f7c4243c7fe1938f181bec41a392bdeb</td>\n",
              "      <td>8e6bfb81e283fa7e4f11123a3fb894f1</td>\n",
              "      <td>5</td>\n",
              "      <td>NaN</td>\n",
              "      <td>Parabéns lojas lannister adorei comprar pela I...</td>\n",
              "      <td>2018-03-01 00:00:00</td>\n",
              "      <td>2018-03-02 10:26:53</td>\n",
              "    </tr>\n",
              "  </tbody>\n",
              "</table>\n",
              "</div>"
            ],
            "text/plain": [
              "                          review_id                          order_id  \\\n",
              "0  7bc2406110b926393aa56f80a40eba40  73fc7af87114b39712e6da79b0a377eb   \n",
              "1  80e641a11e56f04c1ad469d5645fdfde  a548910a1c6147796b98fdf73dbeba33   \n",
              "2  228ce5500dc1d8e020d8d1322874b6f0  f9e4b658b201a9f2ecdecbb34bed034b   \n",
              "3  e64fb393e7b32834bb789ff8bb30750e  658677c97b385a9be170737859d3511b   \n",
              "4  f7c4243c7fe1938f181bec41a392bdeb  8e6bfb81e283fa7e4f11123a3fb894f1   \n",
              "\n",
              "   review_score review_comment_title  \\\n",
              "0             4                  NaN   \n",
              "1             5                  NaN   \n",
              "2             5                  NaN   \n",
              "3             5                  NaN   \n",
              "4             5                  NaN   \n",
              "\n",
              "                              review_comment_message review_creation_date  \\\n",
              "0                                                NaN  2018-01-18 00:00:00   \n",
              "1                                                NaN  2018-03-10 00:00:00   \n",
              "2                                                NaN  2018-02-17 00:00:00   \n",
              "3              Recebi bem antes do prazo estipulado.  2017-04-21 00:00:00   \n",
              "4  Parabéns lojas lannister adorei comprar pela I...  2018-03-01 00:00:00   \n",
              "\n",
              "  review_answer_timestamp  \n",
              "0     2018-01-18 21:46:59  \n",
              "1     2018-03-11 03:05:13  \n",
              "2     2018-02-18 14:36:24  \n",
              "3     2017-04-21 22:02:06  \n",
              "4     2018-03-02 10:26:53  "
            ]
          },
          "execution_count": 409,
          "metadata": {},
          "output_type": "execute_result"
        }
      ],
      "source": [
        "reviews_df = pd.read_csv(\"data/order_reviews_dataset.csv\", delimiter=\",\")\n",
        "reviews_df.head()"
      ]
    },
    {
      "cell_type": "code",
      "execution_count": 410,
      "metadata": {},
      "outputs": [
        {
          "data": {
            "text/html": [
              "<div>\n",
              "<style scoped>\n",
              "    .dataframe tbody tr th:only-of-type {\n",
              "        vertical-align: middle;\n",
              "    }\n",
              "\n",
              "    .dataframe tbody tr th {\n",
              "        vertical-align: top;\n",
              "    }\n",
              "\n",
              "    .dataframe thead th {\n",
              "        text-align: right;\n",
              "    }\n",
              "</style>\n",
              "<table border=\"1\" class=\"dataframe\">\n",
              "  <thead>\n",
              "    <tr style=\"text-align: right;\">\n",
              "      <th></th>\n",
              "      <th>order_id</th>\n",
              "      <th>customer_id</th>\n",
              "      <th>order_status</th>\n",
              "      <th>order_purchase_timestamp</th>\n",
              "      <th>order_approved_at</th>\n",
              "      <th>order_delivered_carrier_date</th>\n",
              "      <th>order_delivered_customer_date</th>\n",
              "      <th>order_estimated_delivery_date</th>\n",
              "    </tr>\n",
              "  </thead>\n",
              "  <tbody>\n",
              "    <tr>\n",
              "      <th>0</th>\n",
              "      <td>e481f51cbdc54678b7cc49136f2d6af7</td>\n",
              "      <td>9ef432eb6251297304e76186b10a928d</td>\n",
              "      <td>delivered</td>\n",
              "      <td>2017-10-02 10:56:33</td>\n",
              "      <td>2017-10-02 11:07:15</td>\n",
              "      <td>2017-10-04 19:55:00</td>\n",
              "      <td>2017-10-10 21:25:13</td>\n",
              "      <td>2017-10-18 00:00:00</td>\n",
              "    </tr>\n",
              "    <tr>\n",
              "      <th>1</th>\n",
              "      <td>53cdb2fc8bc7dce0b6741e2150273451</td>\n",
              "      <td>b0830fb4747a6c6d20dea0b8c802d7ef</td>\n",
              "      <td>delivered</td>\n",
              "      <td>2018-07-24 20:41:37</td>\n",
              "      <td>2018-07-26 03:24:27</td>\n",
              "      <td>2018-07-26 14:31:00</td>\n",
              "      <td>2018-08-07 15:27:45</td>\n",
              "      <td>2018-08-13 00:00:00</td>\n",
              "    </tr>\n",
              "    <tr>\n",
              "      <th>2</th>\n",
              "      <td>47770eb9100c2d0c44946d9cf07ec65d</td>\n",
              "      <td>41ce2a54c0b03bf3443c3d931a367089</td>\n",
              "      <td>delivered</td>\n",
              "      <td>2018-08-08 08:38:49</td>\n",
              "      <td>2018-08-08 08:55:23</td>\n",
              "      <td>2018-08-08 13:50:00</td>\n",
              "      <td>2018-08-17 18:06:29</td>\n",
              "      <td>2018-09-04 00:00:00</td>\n",
              "    </tr>\n",
              "    <tr>\n",
              "      <th>3</th>\n",
              "      <td>949d5b44dbf5de918fe9c16f97b45f8a</td>\n",
              "      <td>f88197465ea7920adcdbec7375364d82</td>\n",
              "      <td>delivered</td>\n",
              "      <td>2017-11-18 19:28:06</td>\n",
              "      <td>2017-11-18 19:45:59</td>\n",
              "      <td>2017-11-22 13:39:59</td>\n",
              "      <td>2017-12-02 00:28:42</td>\n",
              "      <td>2017-12-15 00:00:00</td>\n",
              "    </tr>\n",
              "    <tr>\n",
              "      <th>4</th>\n",
              "      <td>ad21c59c0840e6cb83a9ceb5573f8159</td>\n",
              "      <td>8ab97904e6daea8866dbdbc4fb7aad2c</td>\n",
              "      <td>delivered</td>\n",
              "      <td>2018-02-13 21:18:39</td>\n",
              "      <td>2018-02-13 22:20:29</td>\n",
              "      <td>2018-02-14 19:46:34</td>\n",
              "      <td>2018-02-16 18:17:02</td>\n",
              "      <td>2018-02-26 00:00:00</td>\n",
              "    </tr>\n",
              "  </tbody>\n",
              "</table>\n",
              "</div>"
            ],
            "text/plain": [
              "                           order_id                       customer_id  \\\n",
              "0  e481f51cbdc54678b7cc49136f2d6af7  9ef432eb6251297304e76186b10a928d   \n",
              "1  53cdb2fc8bc7dce0b6741e2150273451  b0830fb4747a6c6d20dea0b8c802d7ef   \n",
              "2  47770eb9100c2d0c44946d9cf07ec65d  41ce2a54c0b03bf3443c3d931a367089   \n",
              "3  949d5b44dbf5de918fe9c16f97b45f8a  f88197465ea7920adcdbec7375364d82   \n",
              "4  ad21c59c0840e6cb83a9ceb5573f8159  8ab97904e6daea8866dbdbc4fb7aad2c   \n",
              "\n",
              "  order_status order_purchase_timestamp    order_approved_at  \\\n",
              "0    delivered      2017-10-02 10:56:33  2017-10-02 11:07:15   \n",
              "1    delivered      2018-07-24 20:41:37  2018-07-26 03:24:27   \n",
              "2    delivered      2018-08-08 08:38:49  2018-08-08 08:55:23   \n",
              "3    delivered      2017-11-18 19:28:06  2017-11-18 19:45:59   \n",
              "4    delivered      2018-02-13 21:18:39  2018-02-13 22:20:29   \n",
              "\n",
              "  order_delivered_carrier_date order_delivered_customer_date  \\\n",
              "0          2017-10-04 19:55:00           2017-10-10 21:25:13   \n",
              "1          2018-07-26 14:31:00           2018-08-07 15:27:45   \n",
              "2          2018-08-08 13:50:00           2018-08-17 18:06:29   \n",
              "3          2017-11-22 13:39:59           2017-12-02 00:28:42   \n",
              "4          2018-02-14 19:46:34           2018-02-16 18:17:02   \n",
              "\n",
              "  order_estimated_delivery_date  \n",
              "0           2017-10-18 00:00:00  \n",
              "1           2018-08-13 00:00:00  \n",
              "2           2018-09-04 00:00:00  \n",
              "3           2017-12-15 00:00:00  \n",
              "4           2018-02-26 00:00:00  "
            ]
          },
          "execution_count": 410,
          "metadata": {},
          "output_type": "execute_result"
        }
      ],
      "source": [
        "orders_df = pd.read_csv(\"data/orders_dataset.csv\", delimiter=\",\")\n",
        "orders_df.head()"
      ]
    },
    {
      "cell_type": "code",
      "execution_count": 411,
      "metadata": {},
      "outputs": [
        {
          "data": {
            "text/html": [
              "<div>\n",
              "<style scoped>\n",
              "    .dataframe tbody tr th:only-of-type {\n",
              "        vertical-align: middle;\n",
              "    }\n",
              "\n",
              "    .dataframe tbody tr th {\n",
              "        vertical-align: top;\n",
              "    }\n",
              "\n",
              "    .dataframe thead th {\n",
              "        text-align: right;\n",
              "    }\n",
              "</style>\n",
              "<table border=\"1\" class=\"dataframe\">\n",
              "  <thead>\n",
              "    <tr style=\"text-align: right;\">\n",
              "      <th></th>\n",
              "      <th>order_id</th>\n",
              "      <th>order_item_id</th>\n",
              "      <th>product_id</th>\n",
              "      <th>seller_id</th>\n",
              "      <th>shipping_limit_date</th>\n",
              "      <th>price</th>\n",
              "      <th>freight_value</th>\n",
              "    </tr>\n",
              "  </thead>\n",
              "  <tbody>\n",
              "    <tr>\n",
              "      <th>0</th>\n",
              "      <td>00010242fe8c5a6d1ba2dd792cb16214</td>\n",
              "      <td>1</td>\n",
              "      <td>4244733e06e7ecb4970a6e2683c13e61</td>\n",
              "      <td>48436dade18ac8b2bce089ec2a041202</td>\n",
              "      <td>2017-09-19 09:45:35</td>\n",
              "      <td>58.90</td>\n",
              "      <td>13.29</td>\n",
              "    </tr>\n",
              "    <tr>\n",
              "      <th>1</th>\n",
              "      <td>00018f77f2f0320c557190d7a144bdd3</td>\n",
              "      <td>1</td>\n",
              "      <td>e5f2d52b802189ee658865ca93d83a8f</td>\n",
              "      <td>dd7ddc04e1b6c2c614352b383efe2d36</td>\n",
              "      <td>2017-05-03 11:05:13</td>\n",
              "      <td>239.90</td>\n",
              "      <td>19.93</td>\n",
              "    </tr>\n",
              "    <tr>\n",
              "      <th>2</th>\n",
              "      <td>000229ec398224ef6ca0657da4fc703e</td>\n",
              "      <td>1</td>\n",
              "      <td>c777355d18b72b67abbeef9df44fd0fd</td>\n",
              "      <td>5b51032eddd242adc84c38acab88f23d</td>\n",
              "      <td>2018-01-18 14:48:30</td>\n",
              "      <td>199.00</td>\n",
              "      <td>17.87</td>\n",
              "    </tr>\n",
              "    <tr>\n",
              "      <th>3</th>\n",
              "      <td>00024acbcdf0a6daa1e931b038114c75</td>\n",
              "      <td>1</td>\n",
              "      <td>7634da152a4610f1595efa32f14722fc</td>\n",
              "      <td>9d7a1d34a5052409006425275ba1c2b4</td>\n",
              "      <td>2018-08-15 10:10:18</td>\n",
              "      <td>12.99</td>\n",
              "      <td>12.79</td>\n",
              "    </tr>\n",
              "    <tr>\n",
              "      <th>4</th>\n",
              "      <td>00042b26cf59d7ce69dfabb4e55b4fd9</td>\n",
              "      <td>1</td>\n",
              "      <td>ac6c3623068f30de03045865e4e10089</td>\n",
              "      <td>df560393f3a51e74553ab94004ba5c87</td>\n",
              "      <td>2017-02-13 13:57:51</td>\n",
              "      <td>199.90</td>\n",
              "      <td>18.14</td>\n",
              "    </tr>\n",
              "  </tbody>\n",
              "</table>\n",
              "</div>"
            ],
            "text/plain": [
              "                           order_id  order_item_id  \\\n",
              "0  00010242fe8c5a6d1ba2dd792cb16214              1   \n",
              "1  00018f77f2f0320c557190d7a144bdd3              1   \n",
              "2  000229ec398224ef6ca0657da4fc703e              1   \n",
              "3  00024acbcdf0a6daa1e931b038114c75              1   \n",
              "4  00042b26cf59d7ce69dfabb4e55b4fd9              1   \n",
              "\n",
              "                         product_id                         seller_id  \\\n",
              "0  4244733e06e7ecb4970a6e2683c13e61  48436dade18ac8b2bce089ec2a041202   \n",
              "1  e5f2d52b802189ee658865ca93d83a8f  dd7ddc04e1b6c2c614352b383efe2d36   \n",
              "2  c777355d18b72b67abbeef9df44fd0fd  5b51032eddd242adc84c38acab88f23d   \n",
              "3  7634da152a4610f1595efa32f14722fc  9d7a1d34a5052409006425275ba1c2b4   \n",
              "4  ac6c3623068f30de03045865e4e10089  df560393f3a51e74553ab94004ba5c87   \n",
              "\n",
              "   shipping_limit_date   price  freight_value  \n",
              "0  2017-09-19 09:45:35   58.90          13.29  \n",
              "1  2017-05-03 11:05:13  239.90          19.93  \n",
              "2  2018-01-18 14:48:30  199.00          17.87  \n",
              "3  2018-08-15 10:10:18   12.99          12.79  \n",
              "4  2017-02-13 13:57:51  199.90          18.14  "
            ]
          },
          "execution_count": 411,
          "metadata": {},
          "output_type": "execute_result"
        }
      ],
      "source": [
        "items_df = pd.read_csv(\"data/order_items_dataset.csv\", delimiter=\",\")\n",
        "items_df.head()"
      ]
    },
    {
      "cell_type": "code",
      "execution_count": 412,
      "metadata": {},
      "outputs": [
        {
          "data": {
            "text/html": [
              "<div>\n",
              "<style scoped>\n",
              "    .dataframe tbody tr th:only-of-type {\n",
              "        vertical-align: middle;\n",
              "    }\n",
              "\n",
              "    .dataframe tbody tr th {\n",
              "        vertical-align: top;\n",
              "    }\n",
              "\n",
              "    .dataframe thead th {\n",
              "        text-align: right;\n",
              "    }\n",
              "</style>\n",
              "<table border=\"1\" class=\"dataframe\">\n",
              "  <thead>\n",
              "    <tr style=\"text-align: right;\">\n",
              "      <th></th>\n",
              "      <th>product_id</th>\n",
              "      <th>product_category_name</th>\n",
              "      <th>product_name_lenght</th>\n",
              "      <th>product_description_lenght</th>\n",
              "      <th>product_photos_qty</th>\n",
              "      <th>product_weight_g</th>\n",
              "      <th>product_length_cm</th>\n",
              "      <th>product_height_cm</th>\n",
              "      <th>product_width_cm</th>\n",
              "    </tr>\n",
              "  </thead>\n",
              "  <tbody>\n",
              "    <tr>\n",
              "      <th>0</th>\n",
              "      <td>1e9e8ef04dbcff4541ed26657ea517e5</td>\n",
              "      <td>perfumaria</td>\n",
              "      <td>40.0</td>\n",
              "      <td>287.0</td>\n",
              "      <td>1.0</td>\n",
              "      <td>225.0</td>\n",
              "      <td>16.0</td>\n",
              "      <td>10.0</td>\n",
              "      <td>14.0</td>\n",
              "    </tr>\n",
              "    <tr>\n",
              "      <th>1</th>\n",
              "      <td>3aa071139cb16b67ca9e5dea641aaa2f</td>\n",
              "      <td>artes</td>\n",
              "      <td>44.0</td>\n",
              "      <td>276.0</td>\n",
              "      <td>1.0</td>\n",
              "      <td>1000.0</td>\n",
              "      <td>30.0</td>\n",
              "      <td>18.0</td>\n",
              "      <td>20.0</td>\n",
              "    </tr>\n",
              "    <tr>\n",
              "      <th>2</th>\n",
              "      <td>96bd76ec8810374ed1b65e291975717f</td>\n",
              "      <td>esporte_lazer</td>\n",
              "      <td>46.0</td>\n",
              "      <td>250.0</td>\n",
              "      <td>1.0</td>\n",
              "      <td>154.0</td>\n",
              "      <td>18.0</td>\n",
              "      <td>9.0</td>\n",
              "      <td>15.0</td>\n",
              "    </tr>\n",
              "    <tr>\n",
              "      <th>3</th>\n",
              "      <td>cef67bcfe19066a932b7673e239eb23d</td>\n",
              "      <td>bebes</td>\n",
              "      <td>27.0</td>\n",
              "      <td>261.0</td>\n",
              "      <td>1.0</td>\n",
              "      <td>371.0</td>\n",
              "      <td>26.0</td>\n",
              "      <td>4.0</td>\n",
              "      <td>26.0</td>\n",
              "    </tr>\n",
              "    <tr>\n",
              "      <th>4</th>\n",
              "      <td>9dc1a7de274444849c219cff195d0b71</td>\n",
              "      <td>utilidades_domesticas</td>\n",
              "      <td>37.0</td>\n",
              "      <td>402.0</td>\n",
              "      <td>4.0</td>\n",
              "      <td>625.0</td>\n",
              "      <td>20.0</td>\n",
              "      <td>17.0</td>\n",
              "      <td>13.0</td>\n",
              "    </tr>\n",
              "  </tbody>\n",
              "</table>\n",
              "</div>"
            ],
            "text/plain": [
              "                         product_id  product_category_name  \\\n",
              "0  1e9e8ef04dbcff4541ed26657ea517e5             perfumaria   \n",
              "1  3aa071139cb16b67ca9e5dea641aaa2f                  artes   \n",
              "2  96bd76ec8810374ed1b65e291975717f          esporte_lazer   \n",
              "3  cef67bcfe19066a932b7673e239eb23d                  bebes   \n",
              "4  9dc1a7de274444849c219cff195d0b71  utilidades_domesticas   \n",
              "\n",
              "   product_name_lenght  product_description_lenght  product_photos_qty  \\\n",
              "0                 40.0                       287.0                 1.0   \n",
              "1                 44.0                       276.0                 1.0   \n",
              "2                 46.0                       250.0                 1.0   \n",
              "3                 27.0                       261.0                 1.0   \n",
              "4                 37.0                       402.0                 4.0   \n",
              "\n",
              "   product_weight_g  product_length_cm  product_height_cm  product_width_cm  \n",
              "0             225.0               16.0               10.0              14.0  \n",
              "1            1000.0               30.0               18.0              20.0  \n",
              "2             154.0               18.0                9.0              15.0  \n",
              "3             371.0               26.0                4.0              26.0  \n",
              "4             625.0               20.0               17.0              13.0  "
            ]
          },
          "execution_count": 412,
          "metadata": {},
          "output_type": "execute_result"
        }
      ],
      "source": [
        "products_df = pd.read_csv(\"data/products_dataset.csv\", delimiter=\",\")\n",
        "products_df.head()"
      ]
    },
    {
      "cell_type": "code",
      "execution_count": 413,
      "metadata": {},
      "outputs": [
        {
          "data": {
            "text/html": [
              "<div>\n",
              "<style scoped>\n",
              "    .dataframe tbody tr th:only-of-type {\n",
              "        vertical-align: middle;\n",
              "    }\n",
              "\n",
              "    .dataframe tbody tr th {\n",
              "        vertical-align: top;\n",
              "    }\n",
              "\n",
              "    .dataframe thead th {\n",
              "        text-align: right;\n",
              "    }\n",
              "</style>\n",
              "<table border=\"1\" class=\"dataframe\">\n",
              "  <thead>\n",
              "    <tr style=\"text-align: right;\">\n",
              "      <th></th>\n",
              "      <th>product_category_name</th>\n",
              "      <th>product_category_name_english</th>\n",
              "    </tr>\n",
              "  </thead>\n",
              "  <tbody>\n",
              "    <tr>\n",
              "      <th>0</th>\n",
              "      <td>beleza_saude</td>\n",
              "      <td>health_beauty</td>\n",
              "    </tr>\n",
              "    <tr>\n",
              "      <th>1</th>\n",
              "      <td>informatica_acessorios</td>\n",
              "      <td>computers_accessories</td>\n",
              "    </tr>\n",
              "    <tr>\n",
              "      <th>2</th>\n",
              "      <td>automotivo</td>\n",
              "      <td>auto</td>\n",
              "    </tr>\n",
              "    <tr>\n",
              "      <th>3</th>\n",
              "      <td>cama_mesa_banho</td>\n",
              "      <td>bed_bath_table</td>\n",
              "    </tr>\n",
              "    <tr>\n",
              "      <th>4</th>\n",
              "      <td>moveis_decoracao</td>\n",
              "      <td>furniture_decor</td>\n",
              "    </tr>\n",
              "  </tbody>\n",
              "</table>\n",
              "</div>"
            ],
            "text/plain": [
              "    product_category_name product_category_name_english\n",
              "0            beleza_saude                 health_beauty\n",
              "1  informatica_acessorios         computers_accessories\n",
              "2              automotivo                          auto\n",
              "3         cama_mesa_banho                bed_bath_table\n",
              "4        moveis_decoracao               furniture_decor"
            ]
          },
          "execution_count": 413,
          "metadata": {},
          "output_type": "execute_result"
        }
      ],
      "source": [
        "product_translation_df = pd.read_csv(\"data/product_category_name_translation.csv\", delimiter=\",\")\n",
        "product_translation_df.head()"
      ]
    },
    {
      "cell_type": "markdown",
      "metadata": {
        "id": "MMi6xGaDkbCi"
      },
      "source": [
        "**Insight:**\n",
        "- dataset order_reviews memiliki kolom review_id, order_id, review_score, review_comment_title, review_comment_message, review_creation_date, review_answer_timestamp\n",
        "- dataset orders memiliki kolom order_id, customer_id, order_status, order_purchase_timestamp, order_approved_at, order_delivered_carrier_date, order_delivered_customer_date, order_estimated_delivery_date\n",
        "- dataset items memiliki kolom order_id, order_item_id, product_id, seller_id, shipping_limit_date, price, freight_value\n",
        "- dataset products memiliki kolom product_id, product_category_name, product_name_lenght, product_description_lenght, product_photos_qty, product_weight_g, product_length_cm, product_height_cm, product_width_cm\n",
        "- dataset product_translation_df memiliki kolom product_category_name dan product_category_name_english"
      ]
    },
    {
      "cell_type": "markdown",
      "metadata": {
        "id": "FHSiqaZp8DC1"
      },
      "source": [
        "### Assessing Data"
      ]
    },
    {
      "cell_type": "code",
      "execution_count": 414,
      "metadata": {},
      "outputs": [],
      "source": [
        "orders_df = orders_df[orders_df[\"order_status\"] == \"delivered\"]\n",
        "\n",
        "orders_reviews_df = pd.merge(\n",
        "    left=orders_df,\n",
        "    right=reviews_df,\n",
        "    how=\"inner\",\n",
        "    on=\"order_id\"\n",
        ")\n",
        "\n",
        "orders_reviews_items_df = pd.merge(\n",
        "    left=orders_reviews_df,\n",
        "    right=items_df,\n",
        "    how=\"left\",\n",
        "    on=\"order_id\"\n",
        ")\n",
        "\n",
        "orders_reviews_items_products_df = pd.merge(\n",
        "    left=orders_reviews_items_df,\n",
        "    right=products_df,\n",
        "    how=\"left\",\n",
        "    on=\"product_id\"\n",
        ")\n",
        "\n",
        "final_df = pd.merge(\n",
        "    left=orders_reviews_items_products_df,\n",
        "    right=product_translation_df,\n",
        "    how=\"left\",\n",
        "    on=\"product_category_name\",\n",
        ")"
      ]
    },
    {
      "cell_type": "code",
      "execution_count": 415,
      "metadata": {},
      "outputs": [
        {
          "data": {
            "text/html": [
              "<div>\n",
              "<style scoped>\n",
              "    .dataframe tbody tr th:only-of-type {\n",
              "        vertical-align: middle;\n",
              "    }\n",
              "\n",
              "    .dataframe tbody tr th {\n",
              "        vertical-align: top;\n",
              "    }\n",
              "\n",
              "    .dataframe thead th {\n",
              "        text-align: right;\n",
              "    }\n",
              "</style>\n",
              "<table border=\"1\" class=\"dataframe\">\n",
              "  <thead>\n",
              "    <tr style=\"text-align: right;\">\n",
              "      <th></th>\n",
              "      <th>order_id</th>\n",
              "      <th>product_category_name_english</th>\n",
              "      <th>review_score</th>\n",
              "    </tr>\n",
              "  </thead>\n",
              "  <tbody>\n",
              "    <tr>\n",
              "      <th>0</th>\n",
              "      <td>e481f51cbdc54678b7cc49136f2d6af7</td>\n",
              "      <td>housewares</td>\n",
              "      <td>4</td>\n",
              "    </tr>\n",
              "    <tr>\n",
              "      <th>1</th>\n",
              "      <td>53cdb2fc8bc7dce0b6741e2150273451</td>\n",
              "      <td>perfumery</td>\n",
              "      <td>4</td>\n",
              "    </tr>\n",
              "    <tr>\n",
              "      <th>2</th>\n",
              "      <td>47770eb9100c2d0c44946d9cf07ec65d</td>\n",
              "      <td>auto</td>\n",
              "      <td>5</td>\n",
              "    </tr>\n",
              "    <tr>\n",
              "      <th>3</th>\n",
              "      <td>949d5b44dbf5de918fe9c16f97b45f8a</td>\n",
              "      <td>pet_shop</td>\n",
              "      <td>5</td>\n",
              "    </tr>\n",
              "    <tr>\n",
              "      <th>4</th>\n",
              "      <td>ad21c59c0840e6cb83a9ceb5573f8159</td>\n",
              "      <td>stationery</td>\n",
              "      <td>5</td>\n",
              "    </tr>\n",
              "  </tbody>\n",
              "</table>\n",
              "</div>"
            ],
            "text/plain": [
              "                           order_id product_category_name_english  \\\n",
              "0  e481f51cbdc54678b7cc49136f2d6af7                    housewares   \n",
              "1  53cdb2fc8bc7dce0b6741e2150273451                     perfumery   \n",
              "2  47770eb9100c2d0c44946d9cf07ec65d                          auto   \n",
              "3  949d5b44dbf5de918fe9c16f97b45f8a                      pet_shop   \n",
              "4  ad21c59c0840e6cb83a9ceb5573f8159                    stationery   \n",
              "\n",
              "   review_score  \n",
              "0             4  \n",
              "1             4  \n",
              "2             5  \n",
              "3             5  \n",
              "4             5  "
            ]
          },
          "execution_count": 415,
          "metadata": {},
          "output_type": "execute_result"
        }
      ],
      "source": [
        "final_df_case1 = final_df[[\"order_id\",\"product_category_name_english\",\"review_score\"]]\n",
        "\n",
        "final_df_case1.head()"
      ]
    },
    {
      "cell_type": "code",
      "execution_count": 416,
      "metadata": {},
      "outputs": [
        {
          "data": {
            "text/html": [
              "<div>\n",
              "<style scoped>\n",
              "    .dataframe tbody tr th:only-of-type {\n",
              "        vertical-align: middle;\n",
              "    }\n",
              "\n",
              "    .dataframe tbody tr th {\n",
              "        vertical-align: top;\n",
              "    }\n",
              "\n",
              "    .dataframe thead th {\n",
              "        text-align: right;\n",
              "    }\n",
              "</style>\n",
              "<table border=\"1\" class=\"dataframe\">\n",
              "  <thead>\n",
              "    <tr style=\"text-align: right;\">\n",
              "      <th></th>\n",
              "      <th>order_id</th>\n",
              "      <th>product_category_name_english</th>\n",
              "      <th>order_delivered_customer_date</th>\n",
              "      <th>order_estimated_delivery_date</th>\n",
              "    </tr>\n",
              "  </thead>\n",
              "  <tbody>\n",
              "    <tr>\n",
              "      <th>0</th>\n",
              "      <td>e481f51cbdc54678b7cc49136f2d6af7</td>\n",
              "      <td>housewares</td>\n",
              "      <td>2017-10-10 21:25:13</td>\n",
              "      <td>2017-10-18 00:00:00</td>\n",
              "    </tr>\n",
              "    <tr>\n",
              "      <th>1</th>\n",
              "      <td>53cdb2fc8bc7dce0b6741e2150273451</td>\n",
              "      <td>perfumery</td>\n",
              "      <td>2018-08-07 15:27:45</td>\n",
              "      <td>2018-08-13 00:00:00</td>\n",
              "    </tr>\n",
              "    <tr>\n",
              "      <th>2</th>\n",
              "      <td>47770eb9100c2d0c44946d9cf07ec65d</td>\n",
              "      <td>auto</td>\n",
              "      <td>2018-08-17 18:06:29</td>\n",
              "      <td>2018-09-04 00:00:00</td>\n",
              "    </tr>\n",
              "    <tr>\n",
              "      <th>3</th>\n",
              "      <td>949d5b44dbf5de918fe9c16f97b45f8a</td>\n",
              "      <td>pet_shop</td>\n",
              "      <td>2017-12-02 00:28:42</td>\n",
              "      <td>2017-12-15 00:00:00</td>\n",
              "    </tr>\n",
              "    <tr>\n",
              "      <th>4</th>\n",
              "      <td>ad21c59c0840e6cb83a9ceb5573f8159</td>\n",
              "      <td>stationery</td>\n",
              "      <td>2018-02-16 18:17:02</td>\n",
              "      <td>2018-02-26 00:00:00</td>\n",
              "    </tr>\n",
              "  </tbody>\n",
              "</table>\n",
              "</div>"
            ],
            "text/plain": [
              "                           order_id product_category_name_english  \\\n",
              "0  e481f51cbdc54678b7cc49136f2d6af7                    housewares   \n",
              "1  53cdb2fc8bc7dce0b6741e2150273451                     perfumery   \n",
              "2  47770eb9100c2d0c44946d9cf07ec65d                          auto   \n",
              "3  949d5b44dbf5de918fe9c16f97b45f8a                      pet_shop   \n",
              "4  ad21c59c0840e6cb83a9ceb5573f8159                    stationery   \n",
              "\n",
              "  order_delivered_customer_date order_estimated_delivery_date  \n",
              "0           2017-10-10 21:25:13           2017-10-18 00:00:00  \n",
              "1           2018-08-07 15:27:45           2018-08-13 00:00:00  \n",
              "2           2018-08-17 18:06:29           2018-09-04 00:00:00  \n",
              "3           2017-12-02 00:28:42           2017-12-15 00:00:00  \n",
              "4           2018-02-16 18:17:02           2018-02-26 00:00:00  "
            ]
          },
          "execution_count": 416,
          "metadata": {},
          "output_type": "execute_result"
        }
      ],
      "source": [
        "final_df_case2 = final_df[[\"order_id\",\"product_category_name_english\", \"order_delivered_customer_date\", \"order_estimated_delivery_date\"]]\n",
        "\n",
        "final_df_case2.head()"
      ]
    },
    {
      "cell_type": "markdown",
      "metadata": {},
      "source": [
        "**Insight:**\n",
        "- Dari banyaknya kolom hasil merge antara 5 dataset, final_df_case1 diproses sehingga menjadi memiliki 3 kolom yaitu order_id, product_category_name_english dan review_score\n",
        "- Dari banyaknya kolom hasil merge antara 5 dataset, saat ini final_df_case2 memiliki 4 kolom yaitu order_id, product_category_name_english, order_delivered_customer_date, order_estimated_delivery_date"
      ]
    },
    {
      "cell_type": "markdown",
      "metadata": {
        "id": "EhN5R4hr8DC1"
      },
      "source": [
        "### Cleaning Data"
      ]
    },
    {
      "cell_type": "markdown",
      "metadata": {},
      "source": [
        "**Pertanyaan 1**"
      ]
    },
    {
      "cell_type": "code",
      "execution_count": 417,
      "metadata": {},
      "outputs": [
        {
          "name": "stdout",
          "output_type": "stream",
          "text": [
            "Jumlah data:  110013\n"
          ]
        }
      ],
      "source": [
        "print(\"Jumlah data: \", len(final_df_case1))"
      ]
    },
    {
      "cell_type": "code",
      "execution_count": 418,
      "metadata": {
        "colab": {
          "base_uri": "https://localhost:8080/",
          "height": 676
        },
        "id": "4S6CqhYFIxkb",
        "outputId": "5db6b266-e73e-49e3-a739-20545b4f213b"
      },
      "outputs": [
        {
          "data": {
            "text/plain": [
              "order_id                            0\n",
              "product_category_name_english    1555\n",
              "review_score                        0\n",
              "dtype: int64"
            ]
          },
          "execution_count": 418,
          "metadata": {},
          "output_type": "execute_result"
        }
      ],
      "source": [
        "final_df_case1.isna().sum()"
      ]
    },
    {
      "cell_type": "code",
      "execution_count": 419,
      "metadata": {},
      "outputs": [],
      "source": [
        "final_df_case1 = final_df_case1.dropna()"
      ]
    },
    {
      "cell_type": "code",
      "execution_count": 420,
      "metadata": {},
      "outputs": [
        {
          "data": {
            "text/plain": [
              "order_id                         0\n",
              "product_category_name_english    0\n",
              "review_score                     0\n",
              "dtype: int64"
            ]
          },
          "execution_count": 420,
          "metadata": {},
          "output_type": "execute_result"
        }
      ],
      "source": [
        "# cek apakah masih ada missing value\n",
        "final_df_case1.isna().sum()"
      ]
    },
    {
      "cell_type": "code",
      "execution_count": 421,
      "metadata": {},
      "outputs": [
        {
          "name": "stdout",
          "output_type": "stream",
          "text": [
            "Jumlah duplikasi:  13042\n"
          ]
        }
      ],
      "source": [
        "print(\"Jumlah duplikasi: \", final_df_case1.duplicated().sum())"
      ]
    },
    {
      "cell_type": "code",
      "execution_count": 422,
      "metadata": {},
      "outputs": [],
      "source": [
        "final_df_case1 = final_df_case1.drop_duplicates(subset=[\"order_id\"])"
      ]
    },
    {
      "cell_type": "code",
      "execution_count": 423,
      "metadata": {},
      "outputs": [
        {
          "name": "stdout",
          "output_type": "stream",
          "text": [
            "Jumlah data:  94489\n"
          ]
        }
      ],
      "source": [
        "print(\"Jumlah data: \", len(final_df_case1))"
      ]
    },
    {
      "cell_type": "markdown",
      "metadata": {
        "id": "Q_5ejIqckiSP"
      },
      "source": [
        "**Insight:**\n",
        "- Awalnya final_df_case1 memiliki 110013 data yang di dalamnya terdapat missing value sebanyak 1555 pada kolom product_category_name_english dan terdapat 13042 data duplikat, kemudian setelah dilakukan cleaning maka data akhir berjumlah 94489."
      ]
    },
    {
      "cell_type": "markdown",
      "metadata": {},
      "source": [
        "**Pertanyaan 2**"
      ]
    },
    {
      "cell_type": "code",
      "execution_count": 424,
      "metadata": {},
      "outputs": [
        {
          "name": "stdout",
          "output_type": "stream",
          "text": [
            "Jumlah data:  110013\n"
          ]
        }
      ],
      "source": [
        "print(\"Jumlah data: \", len(final_df_case2))"
      ]
    },
    {
      "cell_type": "code",
      "execution_count": 425,
      "metadata": {},
      "outputs": [
        {
          "name": "stdout",
          "output_type": "stream",
          "text": [
            "<class 'pandas.core.frame.DataFrame'>\n",
            "RangeIndex: 110013 entries, 0 to 110012\n",
            "Data columns (total 4 columns):\n",
            " #   Column                         Non-Null Count   Dtype \n",
            "---  ------                         --------------   ----- \n",
            " 0   order_id                       110013 non-null  object\n",
            " 1   product_category_name_english  108458 non-null  object\n",
            " 2   order_delivered_customer_date  110005 non-null  object\n",
            " 3   order_estimated_delivery_date  110013 non-null  object\n",
            "dtypes: object(4)\n",
            "memory usage: 3.4+ MB\n"
          ]
        }
      ],
      "source": [
        "final_df_case2.info()"
      ]
    },
    {
      "cell_type": "code",
      "execution_count": 426,
      "metadata": {},
      "outputs": [
        {
          "name": "stderr",
          "output_type": "stream",
          "text": [
            "C:\\Users\\Hana\\AppData\\Local\\Temp\\ipykernel_18888\\7924334.py:4: SettingWithCopyWarning: \n",
            "A value is trying to be set on a copy of a slice from a DataFrame.\n",
            "Try using .loc[row_indexer,col_indexer] = value instead\n",
            "\n",
            "See the caveats in the documentation: https://pandas.pydata.org/pandas-docs/stable/user_guide/indexing.html#returning-a-view-versus-a-copy\n",
            "  final_df_case2[column] = pd.to_datetime(final_df_case2[column])\n",
            "C:\\Users\\Hana\\AppData\\Local\\Temp\\ipykernel_18888\\7924334.py:4: SettingWithCopyWarning: \n",
            "A value is trying to be set on a copy of a slice from a DataFrame.\n",
            "Try using .loc[row_indexer,col_indexer] = value instead\n",
            "\n",
            "See the caveats in the documentation: https://pandas.pydata.org/pandas-docs/stable/user_guide/indexing.html#returning-a-view-versus-a-copy\n",
            "  final_df_case2[column] = pd.to_datetime(final_df_case2[column])\n"
          ]
        }
      ],
      "source": [
        "datetime_columns = [\"order_delivered_customer_date\", \"order_estimated_delivery_date\"]\n",
        " \n",
        "for column in datetime_columns:\n",
        "  final_df_case2[column] = pd.to_datetime(final_df_case2[column])"
      ]
    },
    {
      "cell_type": "code",
      "execution_count": 427,
      "metadata": {},
      "outputs": [
        {
          "name": "stdout",
          "output_type": "stream",
          "text": [
            "<class 'pandas.core.frame.DataFrame'>\n",
            "RangeIndex: 110013 entries, 0 to 110012\n",
            "Data columns (total 4 columns):\n",
            " #   Column                         Non-Null Count   Dtype         \n",
            "---  ------                         --------------   -----         \n",
            " 0   order_id                       110013 non-null  object        \n",
            " 1   product_category_name_english  108458 non-null  object        \n",
            " 2   order_delivered_customer_date  110005 non-null  datetime64[ns]\n",
            " 3   order_estimated_delivery_date  110013 non-null  datetime64[ns]\n",
            "dtypes: datetime64[ns](2), object(2)\n",
            "memory usage: 3.4+ MB\n"
          ]
        }
      ],
      "source": [
        "# cek apakah tipe datanya sudah berubah\n",
        "final_df_case2.info()"
      ]
    },
    {
      "cell_type": "code",
      "execution_count": 428,
      "metadata": {},
      "outputs": [
        {
          "data": {
            "text/plain": [
              "order_id                            0\n",
              "product_category_name_english    1555\n",
              "order_delivered_customer_date       8\n",
              "order_estimated_delivery_date       0\n",
              "dtype: int64"
            ]
          },
          "execution_count": 428,
          "metadata": {},
          "output_type": "execute_result"
        }
      ],
      "source": [
        "final_df_case2.isna().sum()"
      ]
    },
    {
      "cell_type": "code",
      "execution_count": 429,
      "metadata": {},
      "outputs": [],
      "source": [
        "final_df_case2 = final_df_case2.dropna()"
      ]
    },
    {
      "cell_type": "code",
      "execution_count": 430,
      "metadata": {},
      "outputs": [
        {
          "data": {
            "text/plain": [
              "order_id                         0\n",
              "product_category_name_english    0\n",
              "order_delivered_customer_date    0\n",
              "order_estimated_delivery_date    0\n",
              "dtype: int64"
            ]
          },
          "execution_count": 430,
          "metadata": {},
          "output_type": "execute_result"
        }
      ],
      "source": [
        "final_df_case2.isna().sum()"
      ]
    },
    {
      "cell_type": "code",
      "execution_count": 431,
      "metadata": {},
      "outputs": [
        {
          "name": "stdout",
          "output_type": "stream",
          "text": [
            "Jumlah duplikasi:  13236\n"
          ]
        }
      ],
      "source": [
        "print(\"Jumlah duplikasi: \", final_df_case2.duplicated().sum())"
      ]
    },
    {
      "cell_type": "code",
      "execution_count": 432,
      "metadata": {},
      "outputs": [],
      "source": [
        "# menghapus duplikasi, namun menyisakan satu baris untuk setiap order_id\n",
        "final_df_case2 = final_df_case2.drop_duplicates(subset=[\"order_id\"])"
      ]
    },
    {
      "cell_type": "code",
      "execution_count": 433,
      "metadata": {},
      "outputs": [
        {
          "name": "stdout",
          "output_type": "stream",
          "text": [
            "Jumlah duplikasi:  0\n"
          ]
        }
      ],
      "source": [
        "# cek apakah masih ada data yang duplikat\n",
        "print(\"Jumlah duplikasi: \", final_df_case2.duplicated().sum())"
      ]
    },
    {
      "cell_type": "code",
      "execution_count": 434,
      "metadata": {},
      "outputs": [
        {
          "name": "stdout",
          "output_type": "stream",
          "text": [
            "Jumlah data:  94481\n"
          ]
        }
      ],
      "source": [
        "print(\"Jumlah data: \", len(final_df_case2))"
      ]
    },
    {
      "cell_type": "markdown",
      "metadata": {},
      "source": [
        "**Insight:**\n",
        "- Awalnya final_df_case2 memiliki 110013 data yang di dalamnya terdapat 1555 missing value pada kolom product_category_name_english dan 8 missing value pada kolom order_delivered_customer_date serta terdapat 13236 data duplikat. Kemudian setelah dilakukan cleaning maka data akhir berjumlah 94481.\n",
        "- kolom order_delivered_customer_date dan order_estimated_delivery_date memiliki tipe data object yang kemudian diubah menjadi datetime."
      ]
    },
    {
      "cell_type": "markdown",
      "metadata": {
        "id": "gp-Y6wU38DC1"
      },
      "source": [
        "## Exploratory Data Analysis (EDA)"
      ]
    },
    {
      "cell_type": "markdown",
      "metadata": {
        "id": "MW7WF2kr8DC1"
      },
      "source": [
        "### Explore ..."
      ]
    },
    {
      "cell_type": "code",
      "execution_count": 435,
      "metadata": {
        "colab": {
          "base_uri": "https://localhost:8080/"
        },
        "id": "OOab4C9MdV9i",
        "outputId": "37034f4c-d613-4a31-b11f-92dc115fdac4"
      },
      "outputs": [
        {
          "name": "stdout",
          "output_type": "stream",
          "text": [
            "<class 'pandas.core.frame.DataFrame'>\n",
            "Index: 94489 entries, 0 to 110012\n",
            "Data columns (total 3 columns):\n",
            " #   Column                         Non-Null Count  Dtype \n",
            "---  ------                         --------------  ----- \n",
            " 0   order_id                       94489 non-null  object\n",
            " 1   product_category_name_english  94489 non-null  object\n",
            " 2   review_score                   94489 non-null  int64 \n",
            "dtypes: int64(1), object(2)\n",
            "memory usage: 2.9+ MB\n",
            "None\n"
          ]
        }
      ],
      "source": [
        "print(final_df_case1.info())"
      ]
    },
    {
      "cell_type": "code",
      "execution_count": 436,
      "metadata": {},
      "outputs": [
        {
          "name": "stdout",
          "output_type": "stream",
          "text": [
            "       review_score\n",
            "count  94489.000000\n",
            "mean       4.157786\n",
            "std        1.282979\n",
            "min        1.000000\n",
            "25%        4.000000\n",
            "50%        5.000000\n",
            "75%        5.000000\n",
            "max        5.000000\n"
          ]
        }
      ],
      "source": [
        "print(final_df_case1.describe())"
      ]
    },
    {
      "cell_type": "code",
      "execution_count": 437,
      "metadata": {},
      "outputs": [
        {
          "name": "stdout",
          "output_type": "stream",
          "text": [
            "product_category_name_english\n",
            "bed_bath_table               9076\n",
            "health_beauty                8562\n",
            "sports_leisure               7449\n",
            "computers_accessories        6471\n",
            "furniture_decor              6167\n",
            "                             ... \n",
            "home_comfort_2                 21\n",
            "cds_dvds_musicals              12\n",
            "la_cuisine                     11\n",
            "fashion_childrens_clothes       7\n",
            "security_and_services           2\n",
            "Name: count, Length: 71, dtype: int64\n"
          ]
        }
      ],
      "source": [
        "# menghitung berapa kali setiap kategori produk muncul dalam dataset\n",
        "category_counts = final_df_case1[\"product_category_name_english\"].value_counts()\n",
        "print(category_counts)"
      ]
    },
    {
      "cell_type": "code",
      "execution_count": 438,
      "metadata": {},
      "outputs": [
        {
          "name": "stdout",
          "output_type": "stream",
          "text": [
            "product_category_name_english\n",
            "agro_industry_and_commerce    4.107345\n",
            "air_conditioning              4.128631\n",
            "art                           4.126984\n",
            "arts_and_craftmanship         4.136364\n",
            "audio                         3.844575\n",
            "                                ...   \n",
            "stationery                    4.305145\n",
            "tablets_printing_image        4.173333\n",
            "telephony                     4.056022\n",
            "toys                          4.239467\n",
            "watches_gifts                 4.127025\n",
            "Name: review_score, Length: 71, dtype: float64\n"
          ]
        }
      ],
      "source": [
        "# menghitung rata-rata skor review per kategori\n",
        "category_ratings = final_df_case1.groupby(\"product_category_name_english\")[\"review_score\"].mean()\n",
        "print(category_ratings)"
      ]
    },
    {
      "cell_type": "code",
      "execution_count": 439,
      "metadata": {},
      "outputs": [],
      "source": [
        "final_df_case1.to_csv(\"dashboard/final_df_case1.csv\", index=False)"
      ]
    },
    {
      "cell_type": "markdown",
      "metadata": {},
      "source": [
        "**Insight**\n",
        "- final_df_case1 memiliki 94489 data dengan 3 kolom yaitu order_id, product_name_category_english dan review_score\n",
        "- secara keseluruhan review score memiliki rata-rata (average) yaitu 4.083424\n",
        "- kategori bed_bath_table menjadi kategori dengan paling banyak direview konsumen"
      ]
    },
    {
      "cell_type": "code",
      "execution_count": 440,
      "metadata": {},
      "outputs": [
        {
          "name": "stdout",
          "output_type": "stream",
          "text": [
            "<class 'pandas.core.frame.DataFrame'>\n",
            "Index: 94481 entries, 0 to 110012\n",
            "Data columns (total 4 columns):\n",
            " #   Column                         Non-Null Count  Dtype         \n",
            "---  ------                         --------------  -----         \n",
            " 0   order_id                       94481 non-null  object        \n",
            " 1   product_category_name_english  94481 non-null  object        \n",
            " 2   order_delivered_customer_date  94481 non-null  datetime64[ns]\n",
            " 3   order_estimated_delivery_date  94481 non-null  datetime64[ns]\n",
            "dtypes: datetime64[ns](2), object(2)\n",
            "memory usage: 3.6+ MB\n",
            "None\n"
          ]
        }
      ],
      "source": [
        "print(final_df_case2.info())"
      ]
    },
    {
      "cell_type": "code",
      "execution_count": 441,
      "metadata": {},
      "outputs": [
        {
          "name": "stderr",
          "output_type": "stream",
          "text": [
            "C:\\Users\\Hana\\AppData\\Local\\Temp\\ipykernel_18888\\4230844241.py:11: FutureWarning: The default of observed=False is deprecated and will be changed to True in a future version of pandas. Pass observed=False to retain current behavior or observed=True to adopt the future default and silence this warning.\n",
            "  delay_counts = (final_df_case2.groupby([\"product_category_name_english\", \"delivery_category\"]).size().unstack().fillna(0))\n"
          ]
        }
      ],
      "source": [
        "# menghitung selisih hari antara tanggal pesanan diterima pelanggan dengan tanggal estimasi pengiriman\n",
        "final_df_case2[\"delivery_delay_days\"] = (\n",
        "    final_df_case2[\"order_delivered_customer_date\"] - final_df_case2[\"order_estimated_delivery_date\"]\n",
        ").dt.days\n",
        "\n",
        "bins = [-float(\"inf\"), 0, 3, 7, float(\"inf\")] \n",
        "labels = [\"Tepat Waktu\", \"Terlambat 1-3 hari\", \"Terlambat 4-7 hari\", \"Terlambat >7 hari\"]\n",
        "\n",
        "final_df_case2[\"delivery_category\"] = pd.cut(final_df_case2[\"delivery_delay_days\"], bins=bins, labels=labels, right=False)\n",
        "\n",
        "delay_counts = (final_df_case2.groupby([\"product_category_name_english\", \"delivery_category\"]).size().unstack().fillna(0))\n",
        "\n",
        "top_10_categories = delay_counts.sum(axis=1).nlargest(10).index\n",
        "delay_counts_top10 = delay_counts.loc[top_10_categories]\n"
      ]
    },
    {
      "cell_type": "code",
      "execution_count": 442,
      "metadata": {},
      "outputs": [
        {
          "name": "stdout",
          "output_type": "stream",
          "text": [
            "order_month\n",
            "1    -12.821445\n",
            "2    -14.612496\n",
            "3     -9.612839\n",
            "4     -9.583193\n",
            "5    -11.736556\n",
            "6    -15.797394\n",
            "7    -13.275478\n",
            "8    -10.045130\n",
            "9     -9.967544\n",
            "10   -13.895887\n",
            "11   -10.928664\n",
            "12   -11.326696\n",
            "Name: delivery_delay_days, dtype: float64\n"
          ]
        }
      ],
      "source": [
        "# analisis waktu pengiriman per bulan\n",
        "final_df_case2[\"order_month\"] = final_df_case2[\"order_delivered_customer_date\"].dt.month\n",
        "monthly_delay = final_df_case2.groupby(\"order_month\")[\"delivery_delay_days\"].mean()\n",
        "print(monthly_delay)"
      ]
    },
    {
      "cell_type": "code",
      "execution_count": 443,
      "metadata": {},
      "outputs": [
        {
          "name": "stdout",
          "output_type": "stream",
          "text": [
            "<class 'pandas.core.frame.DataFrame'>\n",
            "Index: 94481 entries, 0 to 110012\n",
            "Data columns (total 7 columns):\n",
            " #   Column                         Non-Null Count  Dtype         \n",
            "---  ------                         --------------  -----         \n",
            " 0   order_id                       94481 non-null  object        \n",
            " 1   product_category_name_english  94481 non-null  object        \n",
            " 2   order_delivered_customer_date  94481 non-null  datetime64[ns]\n",
            " 3   order_estimated_delivery_date  94481 non-null  datetime64[ns]\n",
            " 4   delivery_delay_days            94481 non-null  int64         \n",
            " 5   delivery_category              94481 non-null  category      \n",
            " 6   order_month                    94481 non-null  int32         \n",
            "dtypes: category(1), datetime64[ns](2), int32(1), int64(1), object(2)\n",
            "memory usage: 4.8+ MB\n",
            "None\n"
          ]
        }
      ],
      "source": [
        "print(final_df_case2.info())"
      ]
    },
    {
      "cell_type": "code",
      "execution_count": 444,
      "metadata": {},
      "outputs": [],
      "source": [
        "final_df_case2.to_csv(\"dashboard/final_df_case2.csv\", index=False)"
      ]
    },
    {
      "cell_type": "markdown",
      "metadata": {},
      "source": [
        "**Insight:**\n",
        "- final_df_case2 memiliki 94481 data dengan 4 kolom yaitu order_id, product_name_category_english, order_delivered_customer_date, order_estimated_delivery_date dan 3 kolom tambahan yaitu delivery_delay_days, delivery_category dan order_month. \n",
        "- pengiriman paling cepat terjadi di bulan Juni dan paling lama (namun tetap tepat waktu) terjadi di bulan April"
      ]
    },
    {
      "cell_type": "markdown",
      "metadata": {
        "id": "zsyZjqak8DC2"
      },
      "source": [
        "## Visualization & Explanatory Analysis"
      ]
    },
    {
      "cell_type": "markdown",
      "metadata": {
        "id": "HZxOiQ6n8DC2"
      },
      "source": [
        "### Pertanyaan 1: Kategori produk apa yang memiliki rating review paling baik dan buruk?"
      ]
    },
    {
      "cell_type": "code",
      "execution_count": 445,
      "metadata": {
        "colab": {
          "base_uri": "https://localhost:8080/",
          "height": 815
        },
        "id": "1swJUdAD8DC2",
        "outputId": "e717e7b9-95e5-4955-e442-92f0179be9a0"
      },
      "outputs": [
        {
          "name": "stderr",
          "output_type": "stream",
          "text": [
            "C:\\Users\\Hana\\AppData\\Local\\Temp\\ipykernel_18888\\2001207401.py:2: FutureWarning: \n",
            "\n",
            "Passing `palette` without assigning `hue` is deprecated and will be removed in v0.14.0. Assign the `x` variable to `hue` and set `legend=False` for the same effect.\n",
            "\n",
            "  sns.countplot(x=final_df_case1[\"review_score\"],\n"
          ]
        },
        {
          "data": {
            "text/plain": [
              "Text(0.5, 1.0, 'Count of Review Scores')"
            ]
          },
          "execution_count": 445,
          "metadata": {},
          "output_type": "execute_result"
        },
        {
          "data": {
            "image/png": "[encoded data removed]",
            "text/plain": [
              "<Figure size 800x500 with 1 Axes>"
            ]
          },
          "metadata": {},
          "output_type": "display_data"
        }
      ],
      "source": [
        "plt.figure(figsize=(8,5))\n",
        "sns.countplot(x=final_df_case1[\"review_score\"], \n",
        "              palette=\"Set2\")\n",
        "plt.xlabel(\"Review Score\")\n",
        "plt.title(\"Count of Review Scores\")"
      ]
    },
    {
      "cell_type": "markdown",
      "metadata": {},
      "source": [
        "**Insight:**\n",
        "- Review score dengan nilai 5 merupakan yang tertinggi. Sehingga bisa ditarik kesimpulan bahwa mayoritas konsumen sudah merasa puas dengan produk yang mereka beli."
      ]
    },
    {
      "cell_type": "code",
      "execution_count": 446,
      "metadata": {},
      "outputs": [
        {
          "name": "stderr",
          "output_type": "stream",
          "text": [
            "C:\\Users\\Hana\\AppData\\Local\\Temp\\ipykernel_18888\\986557773.py:3: FutureWarning: \n",
            "\n",
            "Passing `palette` without assigning `hue` is deprecated and will be removed in v0.14.0. Assign the `y` variable to `hue` and set `legend=False` for the same effect.\n",
            "\n",
            "  sns.barplot(x=category_counts.head(10).values,\n"
          ]
        },
        {
          "data": {
            "image/png": "[encoded data removed]",
            "text/plain": [
              "<Figure size 1200x500 with 1 Axes>"
            ]
          },
          "metadata": {},
          "output_type": "display_data"
        }
      ],
      "source": [
        "# analisis kategori produk yang sering diberi review\n",
        "plt.figure(figsize=(12, 5))\n",
        "sns.barplot(x=category_counts.head(10).values, \n",
        "            y=category_counts.head(10).index, \n",
        "            palette=\"Blues_r\")\n",
        "plt.xlabel(\"Count of Reviews\")\n",
        "plt.ylabel(\"Category of Products\")\n",
        "plt.title(\"Top 10 Categories with Most Reviews\")\n",
        "plt.show()"
      ]
    },
    {
      "cell_type": "markdown",
      "metadata": {},
      "source": [
        "**Insight:**\n",
        "- Kategori bed_bath_table merupakan kategori yang sering diberikan review oleh konsumen. Dimungkinkan, produk-produk dalam kategori ini yang sering dibeli oleh konsumen."
      ]
    },
    {
      "cell_type": "code",
      "execution_count": 447,
      "metadata": {},
      "outputs": [
        {
          "name": "stderr",
          "output_type": "stream",
          "text": [
            "C:\\Users\\Hana\\AppData\\Local\\Temp\\ipykernel_18888\\177283783.py:3: FutureWarning: \n",
            "\n",
            "Passing `palette` without assigning `hue` is deprecated and will be removed in v0.14.0. Assign the `y` variable to `hue` and set `legend=False` for the same effect.\n",
            "\n",
            "  sns.barplot(x=category_ratings.sort_values(ascending=False).head(10).values,\n"
          ]
        },
        {
          "data": {
            "image/png": "[encoded data removed]",
            "text/plain": [
              "<Figure size 1200x500 with 1 Axes>"
            ]
          },
          "metadata": {},
          "output_type": "display_data"
        }
      ],
      "source": [
        "# analisis kategori produk yang memiliki review paling baik\n",
        "plt.figure(figsize=(12,5))\n",
        "sns.barplot(x=category_ratings.sort_values(ascending=False).head(10).values,\n",
        "            y=category_ratings.sort_values(ascending=False).head(10).index,\n",
        "            palette=\"Blues_r\")\n",
        "plt.xlabel(\"Average Review Score\")\n",
        "plt.ylabel(\"Category of Products\")\n",
        "plt.title(\"Top 10 Product Categories with the Best Ratings\")\n",
        "plt.show()"
      ]
    },
    {
      "cell_type": "code",
      "execution_count": 448,
      "metadata": {},
      "outputs": [
        {
          "name": "stderr",
          "output_type": "stream",
          "text": [
            "C:\\Users\\Hana\\AppData\\Local\\Temp\\ipykernel_18888\\3872155347.py:2: FutureWarning: \n",
            "\n",
            "Passing `palette` without assigning `hue` is deprecated and will be removed in v0.14.0. Assign the `y` variable to `hue` and set `legend=False` for the same effect.\n",
            "\n",
            "  sns.barplot(x=category_ratings.sort_values(ascending=True).head(10).values,\n"
          ]
        },
        {
          "data": {
            "image/png": "[encoded data removed]",
            "text/plain": [
              "<Figure size 1200x500 with 1 Axes>"
            ]
          },
          "metadata": {},
          "output_type": "display_data"
        }
      ],
      "source": [
        "plt.figure(figsize=(12,5))\n",
        "sns.barplot(x=category_ratings.sort_values(ascending=True).head(10).values,\n",
        "            y=category_ratings.sort_values(ascending=True).head(10).index,\n",
        "            palette=\"Reds_r\")\n",
        "plt.xlabel(\"Average Review Score\")\n",
        "plt.ylabel(\"Category of Products\")\n",
        "plt.title(\"Top 10 Product Categories with the Worst Ratings\")\n",
        "plt.show()"
      ]
    },
    {
      "cell_type": "markdown",
      "metadata": {
        "id": "DgHI7CiU8DC2"
      },
      "source": [
        "### Pertanyaan 2: Apakah ada pola keterlambatan pengiriman berdasarkan kategori keterlambatan?"
      ]
    },
    {
      "cell_type": "code",
      "execution_count": 449,
      "metadata": {},
      "outputs": [
        {
          "data": {
            "image/png": "[encoded data removed]",
            "text/plain": [
              "<Figure size 1200x600 with 1 Axes>"
            ]
          },
          "metadata": {},
          "output_type": "display_data"
        }
      ],
      "source": [
        "delay_counts_top10.plot(kind=\"bar\", stacked=True, figsize=(12, 6), colormap=\"coolwarm\")\n",
        "plt.xlabel(\"Product Categories\")\n",
        "plt.ylabel(\"Number of Delays\")\n",
        "plt.title(\"Delivery Delay by Product Category\")\n",
        "plt.legend(title=\"Delay Category\")\n",
        "plt.xticks(rotation=45)\n",
        "plt.show()\n"
      ]
    },
    {
      "cell_type": "code",
      "execution_count": 450,
      "metadata": {},
      "outputs": [
        {
          "data": {
            "image/png": "[encoded data removed]",
            "text/plain": [
              "<Figure size 1000x500 with 1 Axes>"
            ]
          },
          "metadata": {},
          "output_type": "display_data"
        }
      ],
      "source": [
        "plt.figure(figsize=(10,5))\n",
        "sns.lineplot(x=monthly_delay.index, y=monthly_delay.values, marker=\"o\")\n",
        "plt.axhline(0, color=\"red\", linestyle=\"dashed\")\n",
        "plt.xticks(range(1,13), [\"Jan\", \"Feb\", \"Mar\", \"Apr\", \"May\", \"Jun\", \"Jul\", \"Aug\", \"Sep\", \"Oct\", \"Nov\", \"Dec\"])\n",
        "plt.title(\"Average Delivery Delay by Month\")\n",
        "plt.xlabel(\"Month\")\n",
        "plt.ylabel(\"Average (Days)\")\n",
        "plt.show()"
      ]
    },
    {
      "cell_type": "markdown",
      "metadata": {},
      "source": [
        "**Insight:**\n",
        "- Rata-rata pengiriman dari bulan Januari hingga Desember selalu lebih cepat dari estimasi.\n",
        "- Waktu pengiriman bervariasi setiap bulannya"
      ]
    },
    {
      "cell_type": "code",
      "execution_count": 451,
      "metadata": {
        "colab": {
          "base_uri": "https://localhost:8080/"
        },
        "id": "nfCBmnxHtX5w",
        "outputId": "07ee68ea-91a9-4ed7-bd10-ea4360bcaf6c"
      },
      "outputs": [
        {
          "name": "stdout",
          "output_type": "stream",
          "text": [
            "^C\n"
          ]
        }
      ],
      "source": [
        "!streamlit run dashboard/app.py"
      ]
    },
    {
      "cell_type": "markdown",
      "metadata": {
        "id": "_0-36BDLklRg"
      },
      "source": [
        "**Insight:**\n",
        "- 10 kategori dengan rating terbaik secara berturut-turut yaitu fashion_childrens_clothes, cds_dvds_musicals, books_general_interest, books_imported, construction_tools_tools, small_appliances_home_oven_and_coffee, flowers, books_technical, food_drink, fashion_sport.\n",
        "- 10 kategori dengan rating terburuk yaitu furniture_mattress_and_upholstery, home_confort, dan party_supplies, audio, fixed_telephony, home_comfort_2, office_furniture, diapers_and hygine, security_and_service.\n",
        "- Mayoritas pengiriman di semua kategori berhasil dikirim tepat waktu"
      ]
    },
    {
      "cell_type": "markdown",
      "metadata": {
        "id": "_WeHlCeX8DC2"
      },
      "source": [
        "## Conclusion"
      ]
    },
    {
      "cell_type": "markdown",
      "metadata": {
        "id": "ZTcyR48Y8DC2"
      },
      "source": [
        "- Kategori dengan rating terbaik yaitu fashion_childrens_clothes menunjukkan bahwa konsumen merasa puas dengan produk-produk dalam kategori tersebut. \n",
        "- Kategori dengan rating terburuk yaitu furniture_mattress_and_upholstery dimungkinkan karena adanya masalah pada kualitas produk, layanan atau hal lain yang berkaitan dengan kepuasan pelanggan.\n",
        "- Sebagian besar pengiriman dalam semua kategori produk berhasil dilakukan tepat waktu. Ini ditunjukkan oleh bagian (warna) hijau yang dominan di setiap batang grafik. Kategori dengan frekuensi keterlambatan tertinggi adalah bed_bath_table, menunjukkan adanya masalah khusus dalam proses pengiriman untuk produk-produk dalam kategori ini."
      ]
    }
  ],
  "metadata": {
    "colab": {
      "provenance": []
    },
    "kernelspec": {
      "display_name": "submission-MxIvPtlP",
      "language": "python",
      "name": "python3"
    },
    "language_info": {
      "codemirror_mode": {
        "name": "ipython",
        "version": 3
      },
      "file_extension": ".py",
      "mimetype": "text/x-python",
      "name": "python",
      "nbconvert_exporter": "python",
      "pygments_lexer": "ipython3",
      "version": "3.13.0"
    },
    "orig_nbformat": 4
  },
  "nbformat": 4,
  "nbformat_minor": 0
}
