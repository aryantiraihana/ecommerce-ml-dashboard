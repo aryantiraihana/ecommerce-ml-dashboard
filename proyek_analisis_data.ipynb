{
  "cells": [
    {
      "cell_type": "markdown",
      "metadata": {
        "id": "H9wADwK78DCz"
      },
      "source": [
        "# Proyek Analisis Data: [E-Commerce Public]\n",
        "- **Nama:** [Aryanti Raihana Thamrin]\n",
        "- **Email:** [aryantiraihana@gmail.com]\n",
        "- **ID Dicoding:** [hanaaryanti]"
      ]
    },
    {
      "cell_type": "markdown",
      "metadata": {
        "id": "eE0raob58DC0"
      },
      "source": [
        "## Menentukan Pertanyaan Bisnis"
      ]
    },
    {
      "cell_type": "markdown",
      "metadata": {
        "id": "GmQeQ5YF8DC0"
      },
      "source": [
        "- Kategori produk apa yang memiliki rating review paling baik dan buruk?\n",
        "- Apakah ada pola keterlambatan pengiriman berdasarkan kategori keterlambatan?"
      ]
    },
    {
      "cell_type": "markdown",
      "metadata": {
        "id": "H-z4QGlO8DC1"
      },
      "source": [
        "## Import Semua Packages/Library yang Digunakan"
      ]
    },
    {
      "cell_type": "code",
      "execution_count": 2,
      "metadata": {
        "colab": {
          "base_uri": "https://localhost:8080/"
        },
        "id": "GaFQ8iQKyRMS",
        "outputId": "eebd861c-b0a9-48f1-fd80-bfef870e2bd3"
      },
      "outputs": [
        {
          "name": "stdout",
          "output_type": "stream",
          "text": [
            "altair==5.5.0\n",
            "anyio==4.8.0\n",
            "argon2-cffi==23.1.0\n",
            "argon2-cffi-bindings==21.2.0\n",
            "arrow==1.3.0\n",
            "asttokens==3.0.0\n",
            "async-lru==2.0.4\n",
            "attrs==25.1.0\n",
            "babel==2.17.0\n",
            "beautifulsoup4==4.13.3\n",
            "bleach==6.2.0\n",
            "blinker==1.9.0\n",
            "cachetools==5.5.2\n",
            "certifi==2025.1.31\n",
            "cffi==1.17.1\n",
            "charset-normalizer==3.4.1\n",
            "click==8.1.8\n",
            "colorama==0.4.6\n",
            "comm==0.2.2\n",
            "contourpy==1.3.1\n",
            "cycler==0.12.1\n",
            "debugpy==1.8.12\n",
            "decorator==5.2.1\n",
            "defusedxml==0.7.1\n",
            "executing==2.2.0\n",
            "fastjsonschema==2.21.1\n",
            "fonttools==4.56.0\n",
            "fqdn==1.5.1\n",
            "gitdb==4.0.12\n",
            "GitPython==3.1.44\n",
            "h11==0.14.0\n",
            "httpcore==1.0.7\n",
            "httpx==0.28.1\n",
            "idna==3.10\n",
            "ipykernel==6.29.5\n",
            "ipython==8.32.0\n",
            "ipywidgets==8.1.5\n",
            "isoduration==20.11.0\n",
            "jedi==0.19.2\n",
            "Jinja2==3.1.5\n",
            "json5==0.10.0\n",
            "jsonpointer==3.0.0\n",
            "jsonschema==4.23.0\n",
            "jsonschema-specifications==2024.10.1\n",
            "jupyter==1.1.1\n",
            "jupyter-console==6.6.3\n",
            "jupyter-events==0.12.0\n",
            "jupyter-lsp==2.2.5\n",
            "jupyter_client==8.6.3\n",
            "jupyter_core==5.7.2\n",
            "jupyter_server==2.15.0\n",
            "jupyter_server_terminals==0.5.3\n",
            "jupyterlab==4.3.5\n",
            "jupyterlab_pygments==0.3.0\n",
            "jupyterlab_server==2.27.3\n",
            "jupyterlab_widgets==3.0.13\n",
            "kiwisolver==1.4.8\n",
            "markdown-it-py==3.0.0\n",
            "MarkupSafe==3.0.2\n",
            "matplotlib==3.10.0\n",
            "matplotlib-inline==0.1.7\n",
            "mdurl==0.1.2\n",
            "mistune==3.1.2\n",
            "narwhals==1.28.0\n",
            "nbclient==0.10.2\n",
            "nbconvert==7.16.6\n",
            "nbformat==5.10.4\n",
            "nest-asyncio==1.6.0\n",
            "notebook==7.3.2\n",
            "notebook_shim==0.2.4\n",
            "numpy==2.2.3\n",
            "overrides==7.7.0\n",
            "packaging==24.2\n",
            "pandas==2.2.3\n",
            "pandocfilters==1.5.1\n",
            "parso==0.8.4\n",
            "pillow==11.1.0\n",
            "platformdirs==4.3.6\n",
            "prometheus_client==0.21.1\n",
            "prompt_toolkit==3.0.50\n",
            "protobuf==5.29.3\n",
            "psutil==7.0.0\n",
            "pure_eval==0.2.3\n",
            "pyarrow==19.0.1\n",
            "pycparser==2.22\n",
            "pydeck==0.9.1\n",
            "Pygments==2.19.1\n",
            "pyngrok==7.2.3\n",
            "pyparsing==3.2.1\n",
            "python-dateutil==2.9.0.post0\n",
            "python-json-logger==3.2.1\n",
            "pytz==2025.1\n",
            "pywin32==308\n",
            "pywinpty==2.0.15\n",
            "PyYAML==6.0.2\n",
            "pyzmq==26.2.1\n",
            "referencing==0.36.2\n",
            "requests==2.32.3\n",
            "rfc3339-validator==0.1.4\n",
            "rfc3986-validator==0.1.1\n",
            "rich==13.9.4\n",
            "rpds-py==0.23.1\n",
            "scipy==1.15.2\n",
            "seaborn==0.13.2\n",
            "Send2Trash==1.8.3\n",
            "setuptools==75.8.0\n",
            "six==1.17.0\n",
            "smmap==5.0.2\n",
            "sniffio==1.3.1\n",
            "soupsieve==2.6\n",
            "stack-data==0.6.3\n",
            "streamlit==1.42.2\n",
            "tenacity==9.0.0\n",
            "terminado==0.18.1\n",
            "tinycss2==1.4.0\n",
            "toml==0.10.2\n",
            "tornado==6.4.2\n",
            "traitlets==5.14.3\n",
            "types-python-dateutil==2.9.0.20241206\n",
            "typing_extensions==4.12.2\n",
            "tzdata==2025.1\n",
            "uri-template==1.3.0\n",
            "urllib3==2.3.0\n",
            "watchdog==6.0.0\n",
            "wcwidth==0.2.13\n",
            "webcolors==24.11.1\n",
            "webencodings==0.5.1\n",
            "websocket-client==1.8.0\n",
            "widgetsnbextension==4.0.13\n"
          ]
        }
      ],
      "source": [
        "!pip freeze requirements.txt"
      ]
    },
    {
      "cell_type": "code",
      "execution_count": 3,
      "metadata": {
        "id": "FVYwaObI8DC1"
      },
      "outputs": [],
      "source": [
        "import pandas as pd\n",
        "import matplotlib.pyplot as plt\n",
        "import seaborn as sns\n",
        "import numpy as np\n",
        "import streamlit as st"
      ]
    },
    {
      "cell_type": "markdown",
      "metadata": {
        "id": "h_Sh51Xy8DC1"
      },
      "source": [
        "## Data Wrangling"
      ]
    },
    {
      "cell_type": "markdown",
      "metadata": {
        "id": "sXU2GBYu8DC1"
      },
      "source": [
        "### Gathering Data"
      ]
    },
    {
      "cell_type": "code",
      "execution_count": 4,
      "metadata": {
        "colab": {
          "base_uri": "https://localhost:8080/",
          "height": 206
        },
        "id": "zjCBk1BI8DC1",
        "outputId": "51a2b4a9-2182-42a6-8c73-dfe3a11ec073"
      },
      "outputs": [
        {
          "data": {
            "text/html": [
              "<div>\n",
              "<style scoped>\n",
              "    .dataframe tbody tr th:only-of-type {\n",
              "        vertical-align: middle;\n",
              "    }\n",
              "\n",
              "    .dataframe tbody tr th {\n",
              "        vertical-align: top;\n",
              "    }\n",
              "\n",
              "    .dataframe thead th {\n",
              "        text-align: right;\n",
              "    }\n",
              "</style>\n",
              "<table border=\"1\" class=\"dataframe\">\n",
              "  <thead>\n",
              "    <tr style=\"text-align: right;\">\n",
              "      <th></th>\n",
              "      <th>review_id</th>\n",
              "      <th>order_id</th>\n",
              "      <th>review_score</th>\n",
              "      <th>review_comment_title</th>\n",
              "      <th>review_comment_message</th>\n",
              "      <th>review_creation_date</th>\n",
              "      <th>review_answer_timestamp</th>\n",
              "    </tr>\n",
              "  </thead>\n",
              "  <tbody>\n",
              "    <tr>\n",
              "      <th>0</th>\n",
              "      <td>7bc2406110b926393aa56f80a40eba40</td>\n",
              "      <td>73fc7af87114b39712e6da79b0a377eb</td>\n",
              "      <td>4</td>\n",
              "      <td>NaN</td>\n",
              "      <td>NaN</td>\n",
              "      <td>2018-01-18 00:00:00</td>\n",
              "      <td>2018-01-18 21:46:59</td>\n",
              "    </tr>\n",
              "    <tr>\n",
              "      <th>1</th>\n",
              "      <td>80e641a11e56f04c1ad469d5645fdfde</td>\n",
              "      <td>a548910a1c6147796b98fdf73dbeba33</td>\n",
              "      <td>5</td>\n",
              "      <td>NaN</td>\n",
              "      <td>NaN</td>\n",
              "      <td>2018-03-10 00:00:00</td>\n",
              "      <td>2018-03-11 03:05:13</td>\n",
              "    </tr>\n",
              "    <tr>\n",
              "      <th>2</th>\n",
              "      <td>228ce5500dc1d8e020d8d1322874b6f0</td>\n",
              "      <td>f9e4b658b201a9f2ecdecbb34bed034b</td>\n",
              "      <td>5</td>\n",
              "      <td>NaN</td>\n",
              "      <td>NaN</td>\n",
              "      <td>2018-02-17 00:00:00</td>\n",
              "      <td>2018-02-18 14:36:24</td>\n",
              "    </tr>\n",
              "    <tr>\n",
              "      <th>3</th>\n",
              "      <td>e64fb393e7b32834bb789ff8bb30750e</td>\n",
              "      <td>658677c97b385a9be170737859d3511b</td>\n",
              "      <td>5</td>\n",
              "      <td>NaN</td>\n",
              "      <td>Recebi bem antes do prazo estipulado.</td>\n",
              "      <td>2017-04-21 00:00:00</td>\n",
              "      <td>2017-04-21 22:02:06</td>\n",
              "    </tr>\n",
              "    <tr>\n",
              "      <th>4</th>\n",
              "      <td>f7c4243c7fe1938f181bec41a392bdeb</td>\n",
              "      <td>8e6bfb81e283fa7e4f11123a3fb894f1</td>\n",
              "      <td>5</td>\n",
              "      <td>NaN</td>\n",
              "      <td>Parabéns lojas lannister adorei comprar pela I...</td>\n",
              "      <td>2018-03-01 00:00:00</td>\n",
              "      <td>2018-03-02 10:26:53</td>\n",
              "    </tr>\n",
              "  </tbody>\n",
              "</table>\n",
              "</div>"
            ],
            "text/plain": [
              "                          review_id                          order_id  \\\n",
              "0  7bc2406110b926393aa56f80a40eba40  73fc7af87114b39712e6da79b0a377eb   \n",
              "1  80e641a11e56f04c1ad469d5645fdfde  a548910a1c6147796b98fdf73dbeba33   \n",
              "2  228ce5500dc1d8e020d8d1322874b6f0  f9e4b658b201a9f2ecdecbb34bed034b   \n",
              "3  e64fb393e7b32834bb789ff8bb30750e  658677c97b385a9be170737859d3511b   \n",
              "4  f7c4243c7fe1938f181bec41a392bdeb  8e6bfb81e283fa7e4f11123a3fb894f1   \n",
              "\n",
              "   review_score review_comment_title  \\\n",
              "0             4                  NaN   \n",
              "1             5                  NaN   \n",
              "2             5                  NaN   \n",
              "3             5                  NaN   \n",
              "4             5                  NaN   \n",
              "\n",
              "                              review_comment_message review_creation_date  \\\n",
              "0                                                NaN  2018-01-18 00:00:00   \n",
              "1                                                NaN  2018-03-10 00:00:00   \n",
              "2                                                NaN  2018-02-17 00:00:00   \n",
              "3              Recebi bem antes do prazo estipulado.  2017-04-21 00:00:00   \n",
              "4  Parabéns lojas lannister adorei comprar pela I...  2018-03-01 00:00:00   \n",
              "\n",
              "  review_answer_timestamp  \n",
              "0     2018-01-18 21:46:59  \n",
              "1     2018-03-11 03:05:13  \n",
              "2     2018-02-18 14:36:24  \n",
              "3     2017-04-21 22:02:06  \n",
              "4     2018-03-02 10:26:53  "
            ]
          },
          "execution_count": 4,
          "metadata": {},
          "output_type": "execute_result"
        }
      ],
      "source": [
        "reviews_df = pd.read_csv(\"data/order_reviews_dataset.csv\", delimiter=\",\")\n",
        "reviews_df.head()"
      ]
    },
    {
      "cell_type": "code",
      "execution_count": 5,
      "metadata": {},
      "outputs": [
        {
          "data": {
            "text/html": [
              "<div>\n",
              "<style scoped>\n",
              "    .dataframe tbody tr th:only-of-type {\n",
              "        vertical-align: middle;\n",
              "    }\n",
              "\n",
              "    .dataframe tbody tr th {\n",
              "        vertical-align: top;\n",
              "    }\n",
              "\n",
              "    .dataframe thead th {\n",
              "        text-align: right;\n",
              "    }\n",
              "</style>\n",
              "<table border=\"1\" class=\"dataframe\">\n",
              "  <thead>\n",
              "    <tr style=\"text-align: right;\">\n",
              "      <th></th>\n",
              "      <th>order_id</th>\n",
              "      <th>customer_id</th>\n",
              "      <th>order_status</th>\n",
              "      <th>order_purchase_timestamp</th>\n",
              "      <th>order_approved_at</th>\n",
              "      <th>order_delivered_carrier_date</th>\n",
              "      <th>order_delivered_customer_date</th>\n",
              "      <th>order_estimated_delivery_date</th>\n",
              "    </tr>\n",
              "  </thead>\n",
              "  <tbody>\n",
              "    <tr>\n",
              "      <th>0</th>\n",
              "      <td>e481f51cbdc54678b7cc49136f2d6af7</td>\n",
              "      <td>9ef432eb6251297304e76186b10a928d</td>\n",
              "      <td>delivered</td>\n",
              "      <td>2017-10-02 10:56:33</td>\n",
              "      <td>2017-10-02 11:07:15</td>\n",
              "      <td>2017-10-04 19:55:00</td>\n",
              "      <td>2017-10-10 21:25:13</td>\n",
              "      <td>2017-10-18 00:00:00</td>\n",
              "    </tr>\n",
              "    <tr>\n",
              "      <th>1</th>\n",
              "      <td>53cdb2fc8bc7dce0b6741e2150273451</td>\n",
              "      <td>b0830fb4747a6c6d20dea0b8c802d7ef</td>\n",
              "      <td>delivered</td>\n",
              "      <td>2018-07-24 20:41:37</td>\n",
              "      <td>2018-07-26 03:24:27</td>\n",
              "      <td>2018-07-26 14:31:00</td>\n",
              "      <td>2018-08-07 15:27:45</td>\n",
              "      <td>2018-08-13 00:00:00</td>\n",
              "    </tr>\n",
              "    <tr>\n",
              "      <th>2</th>\n",
              "      <td>47770eb9100c2d0c44946d9cf07ec65d</td>\n",
              "      <td>41ce2a54c0b03bf3443c3d931a367089</td>\n",
              "      <td>delivered</td>\n",
              "      <td>2018-08-08 08:38:49</td>\n",
              "      <td>2018-08-08 08:55:23</td>\n",
              "      <td>2018-08-08 13:50:00</td>\n",
              "      <td>2018-08-17 18:06:29</td>\n",
              "      <td>2018-09-04 00:00:00</td>\n",
              "    </tr>\n",
              "    <tr>\n",
              "      <th>3</th>\n",
              "      <td>949d5b44dbf5de918fe9c16f97b45f8a</td>\n",
              "      <td>f88197465ea7920adcdbec7375364d82</td>\n",
              "      <td>delivered</td>\n",
              "      <td>2017-11-18 19:28:06</td>\n",
              "      <td>2017-11-18 19:45:59</td>\n",
              "      <td>2017-11-22 13:39:59</td>\n",
              "      <td>2017-12-02 00:28:42</td>\n",
              "      <td>2017-12-15 00:00:00</td>\n",
              "    </tr>\n",
              "    <tr>\n",
              "      <th>4</th>\n",
              "      <td>ad21c59c0840e6cb83a9ceb5573f8159</td>\n",
              "      <td>8ab97904e6daea8866dbdbc4fb7aad2c</td>\n",
              "      <td>delivered</td>\n",
              "      <td>2018-02-13 21:18:39</td>\n",
              "      <td>2018-02-13 22:20:29</td>\n",
              "      <td>2018-02-14 19:46:34</td>\n",
              "      <td>2018-02-16 18:17:02</td>\n",
              "      <td>2018-02-26 00:00:00</td>\n",
              "    </tr>\n",
              "  </tbody>\n",
              "</table>\n",
              "</div>"
            ],
            "text/plain": [
              "                           order_id                       customer_id  \\\n",
              "0  e481f51cbdc54678b7cc49136f2d6af7  9ef432eb6251297304e76186b10a928d   \n",
              "1  53cdb2fc8bc7dce0b6741e2150273451  b0830fb4747a6c6d20dea0b8c802d7ef   \n",
              "2  47770eb9100c2d0c44946d9cf07ec65d  41ce2a54c0b03bf3443c3d931a367089   \n",
              "3  949d5b44dbf5de918fe9c16f97b45f8a  f88197465ea7920adcdbec7375364d82   \n",
              "4  ad21c59c0840e6cb83a9ceb5573f8159  8ab97904e6daea8866dbdbc4fb7aad2c   \n",
              "\n",
              "  order_status order_purchase_timestamp    order_approved_at  \\\n",
              "0    delivered      2017-10-02 10:56:33  2017-10-02 11:07:15   \n",
              "1    delivered      2018-07-24 20:41:37  2018-07-26 03:24:27   \n",
              "2    delivered      2018-08-08 08:38:49  2018-08-08 08:55:23   \n",
              "3    delivered      2017-11-18 19:28:06  2017-11-18 19:45:59   \n",
              "4    delivered      2018-02-13 21:18:39  2018-02-13 22:20:29   \n",
              "\n",
              "  order_delivered_carrier_date order_delivered_customer_date  \\\n",
              "0          2017-10-04 19:55:00           2017-10-10 21:25:13   \n",
              "1          2018-07-26 14:31:00           2018-08-07 15:27:45   \n",
              "2          2018-08-08 13:50:00           2018-08-17 18:06:29   \n",
              "3          2017-11-22 13:39:59           2017-12-02 00:28:42   \n",
              "4          2018-02-14 19:46:34           2018-02-16 18:17:02   \n",
              "\n",
              "  order_estimated_delivery_date  \n",
              "0           2017-10-18 00:00:00  \n",
              "1           2018-08-13 00:00:00  \n",
              "2           2018-09-04 00:00:00  \n",
              "3           2017-12-15 00:00:00  \n",
              "4           2018-02-26 00:00:00  "
            ]
          },
          "execution_count": 5,
          "metadata": {},
          "output_type": "execute_result"
        }
      ],
      "source": [
        "orders_df = pd.read_csv(\"data/orders_dataset.csv\", delimiter=\",\")\n",
        "orders_df.head()"
      ]
    },
    {
      "cell_type": "code",
      "execution_count": 6,
      "metadata": {},
      "outputs": [
        {
          "data": {
            "text/html": [
              "<div>\n",
              "<style scoped>\n",
              "    .dataframe tbody tr th:only-of-type {\n",
              "        vertical-align: middle;\n",
              "    }\n",
              "\n",
              "    .dataframe tbody tr th {\n",
              "        vertical-align: top;\n",
              "    }\n",
              "\n",
              "    .dataframe thead th {\n",
              "        text-align: right;\n",
              "    }\n",
              "</style>\n",
              "<table border=\"1\" class=\"dataframe\">\n",
              "  <thead>\n",
              "    <tr style=\"text-align: right;\">\n",
              "      <th></th>\n",
              "      <th>order_id</th>\n",
              "      <th>order_item_id</th>\n",
              "      <th>product_id</th>\n",
              "      <th>seller_id</th>\n",
              "      <th>shipping_limit_date</th>\n",
              "      <th>price</th>\n",
              "      <th>freight_value</th>\n",
              "    </tr>\n",
              "  </thead>\n",
              "  <tbody>\n",
              "    <tr>\n",
              "      <th>0</th>\n",
              "      <td>00010242fe8c5a6d1ba2dd792cb16214</td>\n",
              "      <td>1</td>\n",
              "      <td>4244733e06e7ecb4970a6e2683c13e61</td>\n",
              "      <td>48436dade18ac8b2bce089ec2a041202</td>\n",
              "      <td>2017-09-19 09:45:35</td>\n",
              "      <td>58.90</td>\n",
              "      <td>13.29</td>\n",
              "    </tr>\n",
              "    <tr>\n",
              "      <th>1</th>\n",
              "      <td>00018f77f2f0320c557190d7a144bdd3</td>\n",
              "      <td>1</td>\n",
              "      <td>e5f2d52b802189ee658865ca93d83a8f</td>\n",
              "      <td>dd7ddc04e1b6c2c614352b383efe2d36</td>\n",
              "      <td>2017-05-03 11:05:13</td>\n",
              "      <td>239.90</td>\n",
              "      <td>19.93</td>\n",
              "    </tr>\n",
              "    <tr>\n",
              "      <th>2</th>\n",
              "      <td>000229ec398224ef6ca0657da4fc703e</td>\n",
              "      <td>1</td>\n",
              "      <td>c777355d18b72b67abbeef9df44fd0fd</td>\n",
              "      <td>5b51032eddd242adc84c38acab88f23d</td>\n",
              "      <td>2018-01-18 14:48:30</td>\n",
              "      <td>199.00</td>\n",
              "      <td>17.87</td>\n",
              "    </tr>\n",
              "    <tr>\n",
              "      <th>3</th>\n",
              "      <td>00024acbcdf0a6daa1e931b038114c75</td>\n",
              "      <td>1</td>\n",
              "      <td>7634da152a4610f1595efa32f14722fc</td>\n",
              "      <td>9d7a1d34a5052409006425275ba1c2b4</td>\n",
              "      <td>2018-08-15 10:10:18</td>\n",
              "      <td>12.99</td>\n",
              "      <td>12.79</td>\n",
              "    </tr>\n",
              "    <tr>\n",
              "      <th>4</th>\n",
              "      <td>00042b26cf59d7ce69dfabb4e55b4fd9</td>\n",
              "      <td>1</td>\n",
              "      <td>ac6c3623068f30de03045865e4e10089</td>\n",
              "      <td>df560393f3a51e74553ab94004ba5c87</td>\n",
              "      <td>2017-02-13 13:57:51</td>\n",
              "      <td>199.90</td>\n",
              "      <td>18.14</td>\n",
              "    </tr>\n",
              "  </tbody>\n",
              "</table>\n",
              "</div>"
            ],
            "text/plain": [
              "                           order_id  order_item_id  \\\n",
              "0  00010242fe8c5a6d1ba2dd792cb16214              1   \n",
              "1  00018f77f2f0320c557190d7a144bdd3              1   \n",
              "2  000229ec398224ef6ca0657da4fc703e              1   \n",
              "3  00024acbcdf0a6daa1e931b038114c75              1   \n",
              "4  00042b26cf59d7ce69dfabb4e55b4fd9              1   \n",
              "\n",
              "                         product_id                         seller_id  \\\n",
              "0  4244733e06e7ecb4970a6e2683c13e61  48436dade18ac8b2bce089ec2a041202   \n",
              "1  e5f2d52b802189ee658865ca93d83a8f  dd7ddc04e1b6c2c614352b383efe2d36   \n",
              "2  c777355d18b72b67abbeef9df44fd0fd  5b51032eddd242adc84c38acab88f23d   \n",
              "3  7634da152a4610f1595efa32f14722fc  9d7a1d34a5052409006425275ba1c2b4   \n",
              "4  ac6c3623068f30de03045865e4e10089  df560393f3a51e74553ab94004ba5c87   \n",
              "\n",
              "   shipping_limit_date   price  freight_value  \n",
              "0  2017-09-19 09:45:35   58.90          13.29  \n",
              "1  2017-05-03 11:05:13  239.90          19.93  \n",
              "2  2018-01-18 14:48:30  199.00          17.87  \n",
              "3  2018-08-15 10:10:18   12.99          12.79  \n",
              "4  2017-02-13 13:57:51  199.90          18.14  "
            ]
          },
          "execution_count": 6,
          "metadata": {},
          "output_type": "execute_result"
        }
      ],
      "source": [
        "items_df = pd.read_csv(\"data/order_items_dataset.csv\", delimiter=\",\")\n",
        "items_df.head()"
      ]
    },
    {
      "cell_type": "code",
      "execution_count": 7,
      "metadata": {},
      "outputs": [
        {
          "data": {
            "text/html": [
              "<div>\n",
              "<style scoped>\n",
              "    .dataframe tbody tr th:only-of-type {\n",
              "        vertical-align: middle;\n",
              "    }\n",
              "\n",
              "    .dataframe tbody tr th {\n",
              "        vertical-align: top;\n",
              "    }\n",
              "\n",
              "    .dataframe thead th {\n",
              "        text-align: right;\n",
              "    }\n",
              "</style>\n",
              "<table border=\"1\" class=\"dataframe\">\n",
              "  <thead>\n",
              "    <tr style=\"text-align: right;\">\n",
              "      <th></th>\n",
              "      <th>product_id</th>\n",
              "      <th>product_category_name</th>\n",
              "      <th>product_name_lenght</th>\n",
              "      <th>product_description_lenght</th>\n",
              "      <th>product_photos_qty</th>\n",
              "      <th>product_weight_g</th>\n",
              "      <th>product_length_cm</th>\n",
              "      <th>product_height_cm</th>\n",
              "      <th>product_width_cm</th>\n",
              "    </tr>\n",
              "  </thead>\n",
              "  <tbody>\n",
              "    <tr>\n",
              "      <th>0</th>\n",
              "      <td>1e9e8ef04dbcff4541ed26657ea517e5</td>\n",
              "      <td>perfumaria</td>\n",
              "      <td>40.0</td>\n",
              "      <td>287.0</td>\n",
              "      <td>1.0</td>\n",
              "      <td>225.0</td>\n",
              "      <td>16.0</td>\n",
              "      <td>10.0</td>\n",
              "      <td>14.0</td>\n",
              "    </tr>\n",
              "    <tr>\n",
              "      <th>1</th>\n",
              "      <td>3aa071139cb16b67ca9e5dea641aaa2f</td>\n",
              "      <td>artes</td>\n",
              "      <td>44.0</td>\n",
              "      <td>276.0</td>\n",
              "      <td>1.0</td>\n",
              "      <td>1000.0</td>\n",
              "      <td>30.0</td>\n",
              "      <td>18.0</td>\n",
              "      <td>20.0</td>\n",
              "    </tr>\n",
              "    <tr>\n",
              "      <th>2</th>\n",
              "      <td>96bd76ec8810374ed1b65e291975717f</td>\n",
              "      <td>esporte_lazer</td>\n",
              "      <td>46.0</td>\n",
              "      <td>250.0</td>\n",
              "      <td>1.0</td>\n",
              "      <td>154.0</td>\n",
              "      <td>18.0</td>\n",
              "      <td>9.0</td>\n",
              "      <td>15.0</td>\n",
              "    </tr>\n",
              "    <tr>\n",
              "      <th>3</th>\n",
              "      <td>cef67bcfe19066a932b7673e239eb23d</td>\n",
              "      <td>bebes</td>\n",
              "      <td>27.0</td>\n",
              "      <td>261.0</td>\n",
              "      <td>1.0</td>\n",
              "      <td>371.0</td>\n",
              "      <td>26.0</td>\n",
              "      <td>4.0</td>\n",
              "      <td>26.0</td>\n",
              "    </tr>\n",
              "    <tr>\n",
              "      <th>4</th>\n",
              "      <td>9dc1a7de274444849c219cff195d0b71</td>\n",
              "      <td>utilidades_domesticas</td>\n",
              "      <td>37.0</td>\n",
              "      <td>402.0</td>\n",
              "      <td>4.0</td>\n",
              "      <td>625.0</td>\n",
              "      <td>20.0</td>\n",
              "      <td>17.0</td>\n",
              "      <td>13.0</td>\n",
              "    </tr>\n",
              "  </tbody>\n",
              "</table>\n",
              "</div>"
            ],
            "text/plain": [
              "                         product_id  product_category_name  \\\n",
              "0  1e9e8ef04dbcff4541ed26657ea517e5             perfumaria   \n",
              "1  3aa071139cb16b67ca9e5dea641aaa2f                  artes   \n",
              "2  96bd76ec8810374ed1b65e291975717f          esporte_lazer   \n",
              "3  cef67bcfe19066a932b7673e239eb23d                  bebes   \n",
              "4  9dc1a7de274444849c219cff195d0b71  utilidades_domesticas   \n",
              "\n",
              "   product_name_lenght  product_description_lenght  product_photos_qty  \\\n",
              "0                 40.0                       287.0                 1.0   \n",
              "1                 44.0                       276.0                 1.0   \n",
              "2                 46.0                       250.0                 1.0   \n",
              "3                 27.0                       261.0                 1.0   \n",
              "4                 37.0                       402.0                 4.0   \n",
              "\n",
              "   product_weight_g  product_length_cm  product_height_cm  product_width_cm  \n",
              "0             225.0               16.0               10.0              14.0  \n",
              "1            1000.0               30.0               18.0              20.0  \n",
              "2             154.0               18.0                9.0              15.0  \n",
              "3             371.0               26.0                4.0              26.0  \n",
              "4             625.0               20.0               17.0              13.0  "
            ]
          },
          "execution_count": 7,
          "metadata": {},
          "output_type": "execute_result"
        }
      ],
      "source": [
        "products_df = pd.read_csv(\"data/products_dataset.csv\", delimiter=\",\")\n",
        "products_df.head()"
      ]
    },
    {
      "cell_type": "code",
      "execution_count": 8,
      "metadata": {},
      "outputs": [
        {
          "data": {
            "text/html": [
              "<div>\n",
              "<style scoped>\n",
              "    .dataframe tbody tr th:only-of-type {\n",
              "        vertical-align: middle;\n",
              "    }\n",
              "\n",
              "    .dataframe tbody tr th {\n",
              "        vertical-align: top;\n",
              "    }\n",
              "\n",
              "    .dataframe thead th {\n",
              "        text-align: right;\n",
              "    }\n",
              "</style>\n",
              "<table border=\"1\" class=\"dataframe\">\n",
              "  <thead>\n",
              "    <tr style=\"text-align: right;\">\n",
              "      <th></th>\n",
              "      <th>product_category_name</th>\n",
              "      <th>product_category_name_english</th>\n",
              "    </tr>\n",
              "  </thead>\n",
              "  <tbody>\n",
              "    <tr>\n",
              "      <th>0</th>\n",
              "      <td>beleza_saude</td>\n",
              "      <td>health_beauty</td>\n",
              "    </tr>\n",
              "    <tr>\n",
              "      <th>1</th>\n",
              "      <td>informatica_acessorios</td>\n",
              "      <td>computers_accessories</td>\n",
              "    </tr>\n",
              "    <tr>\n",
              "      <th>2</th>\n",
              "      <td>automotivo</td>\n",
              "      <td>auto</td>\n",
              "    </tr>\n",
              "    <tr>\n",
              "      <th>3</th>\n",
              "      <td>cama_mesa_banho</td>\n",
              "      <td>bed_bath_table</td>\n",
              "    </tr>\n",
              "    <tr>\n",
              "      <th>4</th>\n",
              "      <td>moveis_decoracao</td>\n",
              "      <td>furniture_decor</td>\n",
              "    </tr>\n",
              "  </tbody>\n",
              "</table>\n",
              "</div>"
            ],
            "text/plain": [
              "    product_category_name product_category_name_english\n",
              "0            beleza_saude                 health_beauty\n",
              "1  informatica_acessorios         computers_accessories\n",
              "2              automotivo                          auto\n",
              "3         cama_mesa_banho                bed_bath_table\n",
              "4        moveis_decoracao               furniture_decor"
            ]
          },
          "execution_count": 8,
          "metadata": {},
          "output_type": "execute_result"
        }
      ],
      "source": [
        "product_translation_df = pd.read_csv(\"data/product_category_name_translation.csv\", delimiter=\",\")\n",
        "product_translation_df.head()"
      ]
    },
    {
      "cell_type": "markdown",
      "metadata": {
        "id": "MMi6xGaDkbCi"
      },
      "source": [
        "**Insight:**\n",
        "- dataset order_reviews memiliki kolom review_id, order_id, review_score, review_comment_title, review_comment_message, review_creation_date, review_answer_timestamp\n",
        "- dataset orders memiliki kolom order_id, customer_id, order_status, order_purchase_timestamp, order_approved_at, order_delivered_carrier_date, order_delivered_customer_date, order_estimated_delivery_date\n",
        "- dataset items memiliki kolom order_id, order_item_id, product_id, seller_id, shipping_limit_date, price, freight_value\n",
        "- dataset products memiliki kolom product_id, product_category_name, product_name_lenght, product_description_lenght, product_photos_qty, product_weight_g, product_length_cm, product_height_cm, product_width_cm\n",
        "- dataset product_translation_df memiliki kolom product_category_name dan product_category_name_english"
      ]
    },
    {
      "cell_type": "markdown",
      "metadata": {
        "id": "FHSiqaZp8DC1"
      },
      "source": [
        "### Assessing Data"
      ]
    },
    {
      "cell_type": "code",
      "execution_count": 9,
      "metadata": {
        "colab": {
          "base_uri": "https://localhost:8080/"
        },
        "id": "ax-3tEjc9Cj1",
        "outputId": "02d81364-7774-41cf-d74d-0c424f6ccb36"
      },
      "outputs": [
        {
          "name": "stdout",
          "output_type": "stream",
          "text": [
            "<class 'pandas.core.frame.DataFrame'>\n",
            "RangeIndex: 99224 entries, 0 to 99223\n",
            "Data columns (total 7 columns):\n",
            " #   Column                   Non-Null Count  Dtype \n",
            "---  ------                   --------------  ----- \n",
            " 0   review_id                99224 non-null  object\n",
            " 1   order_id                 99224 non-null  object\n",
            " 2   review_score             99224 non-null  int64 \n",
            " 3   review_comment_title     11568 non-null  object\n",
            " 4   review_comment_message   40977 non-null  object\n",
            " 5   review_creation_date     99224 non-null  object\n",
            " 6   review_answer_timestamp  99224 non-null  object\n",
            "dtypes: int64(1), object(6)\n",
            "memory usage: 5.3+ MB\n",
            "Jumlah duplikasi:  0\n"
          ]
        },
        {
          "data": {
            "text/plain": [
              "review_id                      0\n",
              "order_id                       0\n",
              "review_score                   0\n",
              "review_comment_title       87656\n",
              "review_comment_message     58247\n",
              "review_creation_date           0\n",
              "review_answer_timestamp        0\n",
              "dtype: int64"
            ]
          },
          "execution_count": 9,
          "metadata": {},
          "output_type": "execute_result"
        }
      ],
      "source": [
        "# REVIEWS\n",
        "reviews_df.info()\n",
        "print(\"Jumlah duplikasi: \", reviews_df.duplicated().sum())\n",
        "reviews_df.isna().sum()"
      ]
    },
    {
      "cell_type": "code",
      "execution_count": 10,
      "metadata": {},
      "outputs": [
        {
          "name": "stdout",
          "output_type": "stream",
          "text": [
            "<class 'pandas.core.frame.DataFrame'>\n",
            "RangeIndex: 99441 entries, 0 to 99440\n",
            "Data columns (total 8 columns):\n",
            " #   Column                         Non-Null Count  Dtype \n",
            "---  ------                         --------------  ----- \n",
            " 0   order_id                       99441 non-null  object\n",
            " 1   customer_id                    99441 non-null  object\n",
            " 2   order_status                   99441 non-null  object\n",
            " 3   order_purchase_timestamp       99441 non-null  object\n",
            " 4   order_approved_at              99281 non-null  object\n",
            " 5   order_delivered_carrier_date   97658 non-null  object\n",
            " 6   order_delivered_customer_date  96476 non-null  object\n",
            " 7   order_estimated_delivery_date  99441 non-null  object\n",
            "dtypes: object(8)\n",
            "memory usage: 6.1+ MB\n",
            "Jumlah duplikasi:  0\n"
          ]
        },
        {
          "data": {
            "text/plain": [
              "order_id                            0\n",
              "customer_id                         0\n",
              "order_status                        0\n",
              "order_purchase_timestamp            0\n",
              "order_approved_at                 160\n",
              "order_delivered_carrier_date     1783\n",
              "order_delivered_customer_date    2965\n",
              "order_estimated_delivery_date       0\n",
              "dtype: int64"
            ]
          },
          "execution_count": 10,
          "metadata": {},
          "output_type": "execute_result"
        }
      ],
      "source": [
        "# ORDERS\n",
        "orders_df.info()\n",
        "print(\"Jumlah duplikasi: \", orders_df.duplicated().sum())\n",
        "orders_df.isna().sum()"
      ]
    },
    {
      "cell_type": "code",
      "execution_count": 11,
      "metadata": {},
      "outputs": [
        {
          "name": "stdout",
          "output_type": "stream",
          "text": [
            "<class 'pandas.core.frame.DataFrame'>\n",
            "RangeIndex: 112650 entries, 0 to 112649\n",
            "Data columns (total 7 columns):\n",
            " #   Column               Non-Null Count   Dtype  \n",
            "---  ------               --------------   -----  \n",
            " 0   order_id             112650 non-null  object \n",
            " 1   order_item_id        112650 non-null  int64  \n",
            " 2   product_id           112650 non-null  object \n",
            " 3   seller_id            112650 non-null  object \n",
            " 4   shipping_limit_date  112650 non-null  object \n",
            " 5   price                112650 non-null  float64\n",
            " 6   freight_value        112650 non-null  float64\n",
            "dtypes: float64(2), int64(1), object(4)\n",
            "memory usage: 6.0+ MB\n",
            "Jumlah duplikasi:  0\n"
          ]
        },
        {
          "data": {
            "text/plain": [
              "order_id               0\n",
              "order_item_id          0\n",
              "product_id             0\n",
              "seller_id              0\n",
              "shipping_limit_date    0\n",
              "price                  0\n",
              "freight_value          0\n",
              "dtype: int64"
            ]
          },
          "execution_count": 11,
          "metadata": {},
          "output_type": "execute_result"
        }
      ],
      "source": [
        "# ITEMS\n",
        "items_df.info()\n",
        "print(\"Jumlah duplikasi: \", items_df.duplicated().sum())\n",
        "items_df.isna().sum()"
      ]
    },
    {
      "cell_type": "code",
      "execution_count": 12,
      "metadata": {},
      "outputs": [
        {
          "name": "stdout",
          "output_type": "stream",
          "text": [
            "<class 'pandas.core.frame.DataFrame'>\n",
            "RangeIndex: 32951 entries, 0 to 32950\n",
            "Data columns (total 9 columns):\n",
            " #   Column                      Non-Null Count  Dtype  \n",
            "---  ------                      --------------  -----  \n",
            " 0   product_id                  32951 non-null  object \n",
            " 1   product_category_name       32341 non-null  object \n",
            " 2   product_name_lenght         32341 non-null  float64\n",
            " 3   product_description_lenght  32341 non-null  float64\n",
            " 4   product_photos_qty          32341 non-null  float64\n",
            " 5   product_weight_g            32949 non-null  float64\n",
            " 6   product_length_cm           32949 non-null  float64\n",
            " 7   product_height_cm           32949 non-null  float64\n",
            " 8   product_width_cm            32949 non-null  float64\n",
            "dtypes: float64(7), object(2)\n",
            "memory usage: 2.3+ MB\n",
            "Jumlah duplikasi:  0\n"
          ]
        },
        {
          "data": {
            "text/plain": [
              "product_id                      0\n",
              "product_category_name         610\n",
              "product_name_lenght           610\n",
              "product_description_lenght    610\n",
              "product_photos_qty            610\n",
              "product_weight_g                2\n",
              "product_length_cm               2\n",
              "product_height_cm               2\n",
              "product_width_cm                2\n",
              "dtype: int64"
            ]
          },
          "execution_count": 12,
          "metadata": {},
          "output_type": "execute_result"
        }
      ],
      "source": [
        "# PRODUCTS\n",
        "products_df.info()\n",
        "print(\"Jumlah duplikasi: \", products_df.duplicated().sum())\n",
        "products_df.isna().sum()"
      ]
    },
    {
      "cell_type": "code",
      "execution_count": 13,
      "metadata": {},
      "outputs": [
        {
          "name": "stdout",
          "output_type": "stream",
          "text": [
            "<class 'pandas.core.frame.DataFrame'>\n",
            "RangeIndex: 71 entries, 0 to 70\n",
            "Data columns (total 2 columns):\n",
            " #   Column                         Non-Null Count  Dtype \n",
            "---  ------                         --------------  ----- \n",
            " 0   product_category_name          71 non-null     object\n",
            " 1   product_category_name_english  71 non-null     object\n",
            "dtypes: object(2)\n",
            "memory usage: 1.2+ KB\n",
            "Jumlah duplikasi:  0\n"
          ]
        },
        {
          "data": {
            "text/plain": [
              "product_category_name            0\n",
              "product_category_name_english    0\n",
              "dtype: int64"
            ]
          },
          "execution_count": 13,
          "metadata": {},
          "output_type": "execute_result"
        }
      ],
      "source": [
        "# PRODUCT TRANSLATION\n",
        "product_translation_df.info()\n",
        "print(\"Jumlah duplikasi: \", product_translation_df.duplicated().sum())\n",
        "product_translation_df.isna().sum()"
      ]
    },
    {
      "cell_type": "markdown",
      "metadata": {
        "id": "7dtxhAPrkhPL"
      },
      "source": [
        "**Insight:**\n",
        "\n",
        "![Screenshot 2025-02-16 163601.png](data:image/png;base64,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)\n",
        "\n",
        "reviews_df\n",
        "- Terdapat missing value pada kolom review_comment_title sebanyak 87656 missing value dan review_comment_message sebanyak 58247 missing value\n",
        "\n",
        "orders_df\n",
        "- Terdapat missing value pada kolom order_approved_at sebanyak 160, order_delivered_carrier_date\tsebanyak 1783, dan order_delivered_customer_date sebanyak 2965\n",
        "- Terdapat kesalahan tipe data untuk kolom order_purchase_timestamp, order_approved_at, order_delivered_carrier_date, order_delivered_customer_date, order_estimated_delivery_date\n",
        "\n",
        "products_df\n",
        "- Terdapat missing value pada kolom product_category_name sebanyak 610, product_name_lenght\tsebanyak 610, product_description_lenght sebanyak 610, product_photos_qty sebanyak 610, product_weight_g sebanyak 2, product_length_cm sebanyak 2, product_height_cm sebanyak 2, product_width_cm sebanyak 2"
      ]
    },
    {
      "cell_type": "markdown",
      "metadata": {
        "id": "EhN5R4hr8DC1"
      },
      "source": [
        "### Cleaning Data"
      ]
    },
    {
      "cell_type": "code",
      "execution_count": 14,
      "metadata": {
        "colab": {
          "base_uri": "https://localhost:8080/",
          "height": 676
        },
        "id": "4S6CqhYFIxkb",
        "outputId": "5db6b266-e73e-49e3-a739-20545b4f213b"
      },
      "outputs": [
        {
          "name": "stdout",
          "output_type": "stream",
          "text": [
            "['delivered' 'invoiced' 'shipped' 'processing' 'unavailable' 'created'\n",
            " 'approved']\n",
            "<class 'pandas.core.frame.DataFrame'>\n",
            "Index: 96470 entries, 0 to 99440\n",
            "Data columns (total 8 columns):\n",
            " #   Column                         Non-Null Count  Dtype         \n",
            "---  ------                         --------------  -----         \n",
            " 0   order_id                       96470 non-null  object        \n",
            " 1   customer_id                    96470 non-null  object        \n",
            " 2   order_status                   96470 non-null  object        \n",
            " 3   order_purchase_timestamp       96470 non-null  datetime64[ns]\n",
            " 4   order_approved_at              96470 non-null  datetime64[ns]\n",
            " 5   order_delivered_carrier_date   96470 non-null  datetime64[ns]\n",
            " 6   order_delivered_customer_date  96470 non-null  datetime64[ns]\n",
            " 7   order_estimated_delivery_date  96470 non-null  datetime64[ns]\n",
            "dtypes: datetime64[ns](5), object(3)\n",
            "memory usage: 6.6+ MB\n"
          ]
        },
        {
          "data": {
            "text/plain": [
              "product_id                    0\n",
              "product_category_name         0\n",
              "product_name_lenght           0\n",
              "product_description_lenght    0\n",
              "product_photos_qty            0\n",
              "product_weight_g              0\n",
              "product_length_cm             0\n",
              "product_height_cm             0\n",
              "product_width_cm              0\n",
              "dtype: int64"
            ]
          },
          "execution_count": 14,
          "metadata": {},
          "output_type": "execute_result"
        }
      ],
      "source": [
        "#REVIEWS\n",
        "reviews_df[reviews_df.review_comment_title.isna()]\n",
        "reviews_df.fillna(value=\"No Title\", inplace=True)\n",
        "reviews_df.isna().sum()\n",
        "# reviews_df.info()\n",
        "\n",
        "#ORDERS\n",
        "datetime_columns = [\"order_purchase_timestamp\", \"order_approved_at\", \"order_delivered_carrier_date\", \"order_delivered_customer_date\", \"order_estimated_delivery_date\"]\n",
        "\n",
        "for column in datetime_columns:\n",
        "  orders_df[column] = pd.to_datetime(orders_df[column])\n",
        "\n",
        "orders_df = orders_df[orders_df['order_status'] != 'canceled']\n",
        "print(orders_df['order_status'].unique())\n",
        "orders_df = orders_df.dropna(subset=['order_delivered_customer_date', 'order_estimated_delivery_date'], how='any')\n",
        "orders_df[\"order_delivered_carrier_date\"] = orders_df[\"order_delivered_carrier_date\"].fillna(orders_df[\"order_approved_at\"])\n",
        "orders_df[\"order_approved_at\"] = orders_df[\"order_approved_at\"].fillna(orders_df[\"order_purchase_timestamp\"])\n",
        "orders_df[orders_df.order_approved_at.isna()]\n",
        "orders_df.info()\n",
        "\n",
        "#PRODUCTS\n",
        "products_df[products_df.product_category_name.isna()]\n",
        "products_df.dropna(subset=['product_category_name', 'product_name_lenght', 'product_description_lenght', 'product_photos_qty'], how='all', inplace=True)\n",
        "products_df[products_df.product_weight_g.isna()]\n",
        "products_df['product_weight_g'] = products_df.groupby('product_category_name')['product_weight_g'].transform(lambda x: x.fillna(x.median()))\n",
        "products_df['product_length_cm'] = products_df.groupby('product_category_name')['product_length_cm'].transform(lambda x: x.fillna(x.median()))\n",
        "products_df['product_height_cm'] = products_df.groupby('product_category_name')['product_height_cm'].transform(lambda x: x.fillna(x.median()))\n",
        "products_df['product_width_cm'] = products_df.groupby('product_category_name')['product_width_cm'].transform(lambda x: x.fillna(x.median()))\n",
        "products_df.isna().sum()\n"
      ]
    },
    {
      "cell_type": "markdown",
      "metadata": {
        "id": "5i424lZB_Vji"
      },
      "source": [
        "```\n",
        "df_orders_cleaned = orders_df[orders_df['order_status'] != 'canceled']\n",
        "```\n",
        "\n",
        "digunakan untuk menyimpan baris data yang memiliki order_status selain canceled"
      ]
    },
    {
      "cell_type": "markdown",
      "metadata": {
        "id": "el9EEic3suUJ"
      },
      "source": [
        "```\n",
        "orders_df = orders_df.dropna(subset=['order_delivered_customer_date', 'order_estimated_delivery_date'], how='any')\n",
        "```\n",
        "\n",
        "berfungsi untuk menghapus baris data yang memiliki value NaT pada salah satu dari dua kolom yang terdapat di dalam subset"
      ]
    },
    {
      "cell_type": "markdown",
      "metadata": {
        "id": "36CiuWQ9cW_N"
      },
      "source": [
        "```\n",
        "orders_df[\"order_delivered_carrier_date\"] = orders_df[\"order_delivered_carrier_date\"].fillna(orders_df[\"order_approved_at\"])\n",
        "```\n",
        "kode ini mengasumsikan bahwa pesanan segera dikirim setelah pembayaran disetujui"
      ]
    },
    {
      "cell_type": "markdown",
      "metadata": {
        "id": "EmXhC_0O9z3D"
      },
      "source": [
        "```\n",
        "orders_df[\"order_approved_at\"] = orders_df[\"order_approved_at\"].fillna(orders_df[\"order_purchase_timestamp\"])\n",
        "```\n",
        "\n",
        "kode ini mengasumsikan bahwa pembayaran langsung disetujui setelah pembelian"
      ]
    },
    {
      "cell_type": "markdown",
      "metadata": {
        "id": "91mGliM_Xhb-"
      },
      "source": [
        "\n",
        "```\n",
        "products_df.dropna(subset=['product_category_name', 'product_name_lenght', 'product_description_lenght', 'product_photos_qty'], how='all', inplace=True)\n",
        "```\n",
        "digunakan untuk menghilangkan di products_df yang di mana datanya memang kosong sepenuhnya pada kolom yang tertera pada subset."
      ]
    },
    {
      "cell_type": "markdown",
      "metadata": {
        "id": "x2Y-IBtNaJku"
      },
      "source": [
        "```\n",
        "products_df['product_weight_g'] = products_df.groupby('product_category_name')['product_weight_g'].transform(lambda x: x.fillna(x.median()))\n",
        "products_df['product_length_cm'] = products_df.groupby('product_category_name')['product_length_cm'].transform(lambda x: x.fillna(x.median()))\n",
        "products_df['product_height_cm'] = products_df.groupby('product_category_name')['product_height_cm'].transform(lambda x: x.fillna(x.median()))\n",
        "products_df['product_width_cm'] = products_df.groupby('product_category_name')['product_width_cm'].transform(lambda x: x.fillna(x.median()))\n",
        "```\n",
        "digunakan untuk mengganti nilai NaN pada kolom product_weight_g, product_length_cm, product_height_cm, product_width_cm dengan median berdasarkan kategori produk."
      ]
    },
    {
      "cell_type": "markdown",
      "metadata": {
        "id": "Q_5ejIqckiSP"
      },
      "source": [
        "**Insight:**\n",
        "- pada awalnya kolom order_purchase_timestamp, order_approved_at, order_delivered_carrier_date, order_delivered_customer_date, order_estimated_delivery_date bertipe data object, kemudian diubah menjadi datetime\n",
        "- missing value di orders_df ada yang disebabkan karena order tersebut memiliki status 'canceled' sehingga memang tidak memiliki value untuk kolom order_approved_at, order_delivered_carrier_date, dan order_delivered_customer_date."
      ]
    },
    {
      "cell_type": "markdown",
      "metadata": {
        "id": "gp-Y6wU38DC1"
      },
      "source": [
        "## Exploratory Data Analysis (EDA)"
      ]
    },
    {
      "cell_type": "markdown",
      "metadata": {
        "id": "MW7WF2kr8DC1"
      },
      "source": [
        "### Explore ..."
      ]
    },
    {
      "cell_type": "code",
      "execution_count": 15,
      "metadata": {
        "colab": {
          "base_uri": "https://localhost:8080/"
        },
        "id": "OOab4C9MdV9i",
        "outputId": "37034f4c-d613-4a31-b11f-92dc115fdac4"
      },
      "outputs": [
        {
          "data": {
            "image/png": "[encoded data removed]",
            "text/plain": [
              "<Figure size 800x500 with 1 Axes>"
            ]
          },
          "metadata": {},
          "output_type": "display_data"
        },
        {
          "name": "stderr",
          "output_type": "stream",
          "text": [
            "C:\\Users\\Hana\\AppData\\Local\\Temp\\ipykernel_11712\\2423450117.py:42: FutureWarning: \n",
            "\n",
            "Passing `palette` without assigning `hue` is deprecated and will be removed in v0.14.0. Assign the `y` variable to `hue` and set `legend=False` for the same effect.\n",
            "\n",
            "  sns.barplot(x=top_categories.values, y=top_categories.index, palette=\"viridis\")\n"
          ]
        },
        {
          "data": {
            "image/png": "[encoded data removed]",
            "text/plain": [
              "<Figure size 1200x600 with 1 Axes>"
            ]
          },
          "metadata": {},
          "output_type": "display_data"
        },
        {
          "name": "stderr",
          "output_type": "stream",
          "text": [
            "C:\\Users\\Hana\\AppData\\Local\\Temp\\ipykernel_11712\\2423450117.py:53: FutureWarning: \n",
            "\n",
            "Passing `palette` without assigning `hue` is deprecated and will be removed in v0.14.0. Assign the `x` variable to `hue` and set `legend=False` for the same effect.\n",
            "\n",
            "  sns.boxplot(x=final_df[\"delivery_delay_days\"], y=final_df[\"review_score\"], palette=\"coolwarm\")\n"
          ]
        },
        {
          "data": {
            "image/png": "[encoded data removed]",
            "text/plain": [
              "<Figure size 800x500 with 1 Axes>"
            ]
          },
          "metadata": {},
          "output_type": "display_data"
        },
        {
          "data": {
            "text/html": [
              "<div>\n",
              "<style scoped>\n",
              "    .dataframe tbody tr th:only-of-type {\n",
              "        vertical-align: middle;\n",
              "    }\n",
              "\n",
              "    .dataframe tbody tr th {\n",
              "        vertical-align: top;\n",
              "    }\n",
              "\n",
              "    .dataframe thead th {\n",
              "        text-align: right;\n",
              "    }\n",
              "</style>\n",
              "<table border=\"1\" class=\"dataframe\">\n",
              "  <thead>\n",
              "    <tr style=\"text-align: right;\">\n",
              "      <th></th>\n",
              "      <th>order_id</th>\n",
              "      <th>customer_id</th>\n",
              "      <th>order_status</th>\n",
              "      <th>order_purchase_timestamp</th>\n",
              "      <th>order_approved_at</th>\n",
              "      <th>order_delivered_carrier_date</th>\n",
              "      <th>order_delivered_customer_date</th>\n",
              "      <th>order_estimated_delivery_date</th>\n",
              "      <th>review_id</th>\n",
              "      <th>review_score</th>\n",
              "      <th>...</th>\n",
              "      <th>product_category_name</th>\n",
              "      <th>product_name_lenght</th>\n",
              "      <th>product_description_lenght</th>\n",
              "      <th>product_photos_qty</th>\n",
              "      <th>product_weight_g</th>\n",
              "      <th>product_length_cm</th>\n",
              "      <th>product_height_cm</th>\n",
              "      <th>product_width_cm</th>\n",
              "      <th>product_category_name_english</th>\n",
              "      <th>delivery_delay_days</th>\n",
              "    </tr>\n",
              "  </thead>\n",
              "  <tbody>\n",
              "    <tr>\n",
              "      <th>0</th>\n",
              "      <td>e481f51cbdc54678b7cc49136f2d6af7</td>\n",
              "      <td>9ef432eb6251297304e76186b10a928d</td>\n",
              "      <td>delivered</td>\n",
              "      <td>2017-10-02 10:56:33</td>\n",
              "      <td>2017-10-02 11:07:15</td>\n",
              "      <td>2017-10-04 19:55:00</td>\n",
              "      <td>2017-10-10 21:25:13</td>\n",
              "      <td>2017-10-18</td>\n",
              "      <td>a54f0611adc9ed256b57ede6b6eb5114</td>\n",
              "      <td>4</td>\n",
              "      <td>...</td>\n",
              "      <td>utilidades_domesticas</td>\n",
              "      <td>40.0</td>\n",
              "      <td>268.0</td>\n",
              "      <td>4.0</td>\n",
              "      <td>500.0</td>\n",
              "      <td>19.0</td>\n",
              "      <td>8.0</td>\n",
              "      <td>13.0</td>\n",
              "      <td>housewares</td>\n",
              "      <td>-8</td>\n",
              "    </tr>\n",
              "    <tr>\n",
              "      <th>1</th>\n",
              "      <td>53cdb2fc8bc7dce0b6741e2150273451</td>\n",
              "      <td>b0830fb4747a6c6d20dea0b8c802d7ef</td>\n",
              "      <td>delivered</td>\n",
              "      <td>2018-07-24 20:41:37</td>\n",
              "      <td>2018-07-26 03:24:27</td>\n",
              "      <td>2018-07-26 14:31:00</td>\n",
              "      <td>2018-08-07 15:27:45</td>\n",
              "      <td>2018-08-13</td>\n",
              "      <td>8d5266042046a06655c8db133d120ba5</td>\n",
              "      <td>4</td>\n",
              "      <td>...</td>\n",
              "      <td>perfumaria</td>\n",
              "      <td>29.0</td>\n",
              "      <td>178.0</td>\n",
              "      <td>1.0</td>\n",
              "      <td>400.0</td>\n",
              "      <td>19.0</td>\n",
              "      <td>13.0</td>\n",
              "      <td>19.0</td>\n",
              "      <td>perfumery</td>\n",
              "      <td>-6</td>\n",
              "    </tr>\n",
              "    <tr>\n",
              "      <th>2</th>\n",
              "      <td>47770eb9100c2d0c44946d9cf07ec65d</td>\n",
              "      <td>41ce2a54c0b03bf3443c3d931a367089</td>\n",
              "      <td>delivered</td>\n",
              "      <td>2018-08-08 08:38:49</td>\n",
              "      <td>2018-08-08 08:55:23</td>\n",
              "      <td>2018-08-08 13:50:00</td>\n",
              "      <td>2018-08-17 18:06:29</td>\n",
              "      <td>2018-09-04</td>\n",
              "      <td>e73b67b67587f7644d5bd1a52deb1b01</td>\n",
              "      <td>5</td>\n",
              "      <td>...</td>\n",
              "      <td>automotivo</td>\n",
              "      <td>46.0</td>\n",
              "      <td>232.0</td>\n",
              "      <td>1.0</td>\n",
              "      <td>420.0</td>\n",
              "      <td>24.0</td>\n",
              "      <td>19.0</td>\n",
              "      <td>21.0</td>\n",
              "      <td>auto</td>\n",
              "      <td>-18</td>\n",
              "    </tr>\n",
              "    <tr>\n",
              "      <th>3</th>\n",
              "      <td>949d5b44dbf5de918fe9c16f97b45f8a</td>\n",
              "      <td>f88197465ea7920adcdbec7375364d82</td>\n",
              "      <td>delivered</td>\n",
              "      <td>2017-11-18 19:28:06</td>\n",
              "      <td>2017-11-18 19:45:59</td>\n",
              "      <td>2017-11-22 13:39:59</td>\n",
              "      <td>2017-12-02 00:28:42</td>\n",
              "      <td>2017-12-15</td>\n",
              "      <td>359d03e676b3c069f62cadba8dd3f6e8</td>\n",
              "      <td>5</td>\n",
              "      <td>...</td>\n",
              "      <td>pet_shop</td>\n",
              "      <td>59.0</td>\n",
              "      <td>468.0</td>\n",
              "      <td>3.0</td>\n",
              "      <td>450.0</td>\n",
              "      <td>30.0</td>\n",
              "      <td>10.0</td>\n",
              "      <td>20.0</td>\n",
              "      <td>pet_shop</td>\n",
              "      <td>-13</td>\n",
              "    </tr>\n",
              "    <tr>\n",
              "      <th>4</th>\n",
              "      <td>ad21c59c0840e6cb83a9ceb5573f8159</td>\n",
              "      <td>8ab97904e6daea8866dbdbc4fb7aad2c</td>\n",
              "      <td>delivered</td>\n",
              "      <td>2018-02-13 21:18:39</td>\n",
              "      <td>2018-02-13 22:20:29</td>\n",
              "      <td>2018-02-14 19:46:34</td>\n",
              "      <td>2018-02-16 18:17:02</td>\n",
              "      <td>2018-02-26</td>\n",
              "      <td>e50934924e227544ba8246aeb3770dd4</td>\n",
              "      <td>5</td>\n",
              "      <td>...</td>\n",
              "      <td>papelaria</td>\n",
              "      <td>38.0</td>\n",
              "      <td>316.0</td>\n",
              "      <td>4.0</td>\n",
              "      <td>250.0</td>\n",
              "      <td>51.0</td>\n",
              "      <td>15.0</td>\n",
              "      <td>15.0</td>\n",
              "      <td>stationery</td>\n",
              "      <td>-10</td>\n",
              "    </tr>\n",
              "  </tbody>\n",
              "</table>\n",
              "<p>5 rows × 30 columns</p>\n",
              "</div>"
            ],
            "text/plain": [
              "                           order_id                       customer_id  \\\n",
              "0  e481f51cbdc54678b7cc49136f2d6af7  9ef432eb6251297304e76186b10a928d   \n",
              "1  53cdb2fc8bc7dce0b6741e2150273451  b0830fb4747a6c6d20dea0b8c802d7ef   \n",
              "2  47770eb9100c2d0c44946d9cf07ec65d  41ce2a54c0b03bf3443c3d931a367089   \n",
              "3  949d5b44dbf5de918fe9c16f97b45f8a  f88197465ea7920adcdbec7375364d82   \n",
              "4  ad21c59c0840e6cb83a9ceb5573f8159  8ab97904e6daea8866dbdbc4fb7aad2c   \n",
              "\n",
              "  order_status order_purchase_timestamp   order_approved_at  \\\n",
              "0    delivered      2017-10-02 10:56:33 2017-10-02 11:07:15   \n",
              "1    delivered      2018-07-24 20:41:37 2018-07-26 03:24:27   \n",
              "2    delivered      2018-08-08 08:38:49 2018-08-08 08:55:23   \n",
              "3    delivered      2017-11-18 19:28:06 2017-11-18 19:45:59   \n",
              "4    delivered      2018-02-13 21:18:39 2018-02-13 22:20:29   \n",
              "\n",
              "  order_delivered_carrier_date order_delivered_customer_date  \\\n",
              "0          2017-10-04 19:55:00           2017-10-10 21:25:13   \n",
              "1          2018-07-26 14:31:00           2018-08-07 15:27:45   \n",
              "2          2018-08-08 13:50:00           2018-08-17 18:06:29   \n",
              "3          2017-11-22 13:39:59           2017-12-02 00:28:42   \n",
              "4          2018-02-14 19:46:34           2018-02-16 18:17:02   \n",
              "\n",
              "  order_estimated_delivery_date                         review_id  \\\n",
              "0                    2017-10-18  a54f0611adc9ed256b57ede6b6eb5114   \n",
              "1                    2018-08-13  8d5266042046a06655c8db133d120ba5   \n",
              "2                    2018-09-04  e73b67b67587f7644d5bd1a52deb1b01   \n",
              "3                    2017-12-15  359d03e676b3c069f62cadba8dd3f6e8   \n",
              "4                    2018-02-26  e50934924e227544ba8246aeb3770dd4   \n",
              "\n",
              "   review_score  ...  product_category_name product_name_lenght  \\\n",
              "0             4  ...  utilidades_domesticas                40.0   \n",
              "1             4  ...             perfumaria                29.0   \n",
              "2             5  ...             automotivo                46.0   \n",
              "3             5  ...               pet_shop                59.0   \n",
              "4             5  ...              papelaria                38.0   \n",
              "\n",
              "  product_description_lenght product_photos_qty  product_weight_g  \\\n",
              "0                      268.0                4.0             500.0   \n",
              "1                      178.0                1.0             400.0   \n",
              "2                      232.0                1.0             420.0   \n",
              "3                      468.0                3.0             450.0   \n",
              "4                      316.0                4.0             250.0   \n",
              "\n",
              "  product_length_cm product_height_cm product_width_cm  \\\n",
              "0              19.0               8.0             13.0   \n",
              "1              19.0              13.0             19.0   \n",
              "2              24.0              19.0             21.0   \n",
              "3              30.0              10.0             20.0   \n",
              "4              51.0              15.0             15.0   \n",
              "\n",
              "   product_category_name_english  delivery_delay_days  \n",
              "0                     housewares                   -8  \n",
              "1                      perfumery                   -6  \n",
              "2                           auto                  -18  \n",
              "3                       pet_shop                  -13  \n",
              "4                     stationery                  -10  \n",
              "\n",
              "[5 rows x 30 columns]"
            ]
          },
          "execution_count": 15,
          "metadata": {},
          "output_type": "execute_result"
        }
      ],
      "source": [
        "orders_reviews_df = pd.merge(\n",
        "    left=orders_df,\n",
        "    right=reviews_df,\n",
        "    how=\"inner\",\n",
        "    on=\"order_id\"\n",
        ")\n",
        "# orders_reviews_df.head()\n",
        "\n",
        "orders_reviews_items_df = pd.merge(\n",
        "    left=orders_reviews_df,\n",
        "    right=items_df,\n",
        "    how=\"inner\",\n",
        "    on=\"order_id\"\n",
        ")\n",
        "# orders_reviews_items_df.head()\n",
        "\n",
        "orders_reviews_items_products_df = pd.merge(\n",
        "    left=orders_reviews_items_df,\n",
        "    right=products_df,\n",
        "    how=\"inner\",\n",
        "    on=\"product_id\"\n",
        ")\n",
        "# orders_reviews_items_products_df.head()\n",
        "\n",
        "final_df = pd.merge(\n",
        "    left=orders_reviews_items_products_df,\n",
        "    right=product_translation_df,\n",
        "    how=\"left\",\n",
        "    left_on=\"product_category_name\",\n",
        "    right_on=\"product_category_name\"\n",
        ")\n",
        "\n",
        "plt.figure(figsize=(8, 5))\n",
        "sns.histplot(final_df[\"review_score\"], bins=5, kde=True, color=\"skyblue\")\n",
        "plt.title(\"Distribusi Rating Produk\")\n",
        "plt.xlabel(\"Rating\")\n",
        "plt.ylabel(\"Frekuensi\")\n",
        "plt.show()\n",
        "\n",
        "plt.figure(figsize=(12, 6))\n",
        "top_categories = final_df[\"product_category_name_english\"].value_counts().head(10)\n",
        "sns.barplot(x=top_categories.values, y=top_categories.index, palette=\"viridis\")\n",
        "plt.title(\"Top 10 Kategori Produk dengan Pesanan Terbanyak\")\n",
        "plt.xlabel(\"Jumlah Pesanan\")\n",
        "plt.ylabel(\"Kategori Produk\")\n",
        "plt.show()\n",
        "\n",
        "final_df[\"order_delivered_customer_date\"] = pd.to_datetime(final_df[\"order_delivered_customer_date\"])\n",
        "final_df[\"order_estimated_delivery_date\"] = pd.to_datetime(final_df[\"order_estimated_delivery_date\"])\n",
        "final_df[\"delivery_delay_days\"] = (final_df[\"order_delivered_customer_date\"] - final_df[\"order_estimated_delivery_date\"]).dt.days\n",
        "\n",
        "plt.figure(figsize=(8, 5))\n",
        "sns.boxplot(x=final_df[\"delivery_delay_days\"], y=final_df[\"review_score\"], palette=\"coolwarm\")\n",
        "plt.title(\"Hubungan Keterlambatan dengan Rating\")\n",
        "plt.xlabel(\"Keterlambatan (Hari)\")\n",
        "plt.ylabel(\"Rating Produk\")\n",
        "plt.show()\n",
        "\n",
        "final_df.to_csv(\"final_data.csv\", index=False)\n",
        "\n",
        "final_df.head()\n",
        "\n"
      ]
    },
    {
      "cell_type": "markdown",
      "metadata": {
        "id": "th_Lzl2Fkj9O"
      },
      "source": [
        "**Insight:**\n",
        "- dataset final merupakan tabel akhir atau hasil dari merge antara 5 dataset"
      ]
    },
    {
      "cell_type": "markdown",
      "metadata": {
        "id": "zsyZjqak8DC2"
      },
      "source": [
        "## Visualization & Explanatory Analysis"
      ]
    },
    {
      "cell_type": "code",
      "execution_count": 16,
      "metadata": {},
      "outputs": [],
      "source": [
        "final_df = pd.read_csv(\"dashboard/final_data.csv\")"
      ]
    },
    {
      "cell_type": "markdown",
      "metadata": {
        "id": "HZxOiQ6n8DC2"
      },
      "source": [
        "### Pertanyaan 1: Kategori produk apa yang memiliki rating review paling baik dan buruk?"
      ]
    },
    {
      "cell_type": "code",
      "execution_count": 17,
      "metadata": {
        "colab": {
          "base_uri": "https://localhost:8080/",
          "height": 815
        },
        "id": "1swJUdAD8DC2",
        "outputId": "e717e7b9-95e5-4955-e442-92f0179be9a0"
      },
      "outputs": [
        {
          "name": "stderr",
          "output_type": "stream",
          "text": [
            "C:\\Users\\Hana\\AppData\\Local\\Temp\\ipykernel_11712\\1386362526.py:10: FutureWarning: \n",
            "\n",
            "Passing `palette` without assigning `hue` is deprecated and will be removed in v0.14.0. Assign the `y` variable to `hue` and set `legend=False` for the same effect.\n",
            "\n",
            "  sns.barplot(x=\"avg_rating\", y=\"product_category_name_english\", data=top_10_best, palette=\"Blues_r\", ax=ax[0])\n",
            "C:\\Users\\Hana\\AppData\\Local\\Temp\\ipykernel_11712\\1386362526.py:15: FutureWarning: \n",
            "\n",
            "Passing `palette` without assigning `hue` is deprecated and will be removed in v0.14.0. Assign the `y` variable to `hue` and set `legend=False` for the same effect.\n",
            "\n",
            "  sns.barplot(x=\"avg_rating\", y=\"product_category_name_english\", data=top_10_worst, palette=\"Reds_r\", ax=ax[1])\n"
          ]
        },
        {
          "data": {
            "image/png": "[encoded data removed]",
            "text/plain": [
              "<Figure size 1400x600 with 2 Axes>"
            ]
          },
          "metadata": {},
          "output_type": "display_data"
        }
      ],
      "source": [
        "rating_per_category = final_df.groupby(\"product_category_name_english\").agg(\n",
        "    avg_rating=(\"review_score\", \"mean\")\n",
        ").reset_index()\n",
        "\n",
        "top_10_best = rating_per_category.sort_values(by=\"avg_rating\", ascending=False).head(10)\n",
        "top_10_worst = rating_per_category.sort_values(by=\"avg_rating\", ascending=True).head(10)\n",
        "\n",
        "fig, ax = plt.subplots(1, 2, figsize=(14, 6))\n",
        "\n",
        "sns.barplot(x=\"avg_rating\", y=\"product_category_name_english\", data=top_10_best, palette=\"Blues_r\", ax=ax[0])\n",
        "ax[0].set_title(\"Top 10 Kategori Produk dengan Rating Terbaik\")\n",
        "ax[0].set_xlabel(\"Rata-rata Rating\")\n",
        "ax[0].set_ylabel(\"Kategori Produk\")\n",
        "\n",
        "sns.barplot(x=\"avg_rating\", y=\"product_category_name_english\", data=top_10_worst, palette=\"Reds_r\", ax=ax[1])\n",
        "ax[1].set_title(\"Top 10 Kategori Produk dengan Rating Terburuk\")\n",
        "ax[1].set_xlabel(\"Rata-rata Rating\")\n",
        "ax[1].set_ylabel(\"Kategori Produk\")\n",
        "\n",
        "plt.tight_layout()\n",
        "plt.show()"
      ]
    },
    {
      "cell_type": "markdown",
      "metadata": {
        "id": "DgHI7CiU8DC2"
      },
      "source": [
        "### Pertanyaan 2: Apakah ada pola keterlambatan pengiriman berdasarkan kategori keterlambatan?"
      ]
    },
    {
      "cell_type": "code",
      "execution_count": 18,
      "metadata": {
        "colab": {
          "base_uri": "https://localhost:8080/"
        },
        "id": "Go0lCsvO8DC2",
        "outputId": "30f744bf-c302-4426-cb76-b77d5644720b"
      },
      "outputs": [
        {
          "name": "stderr",
          "output_type": "stream",
          "text": [
            "C:\\Users\\Hana\\AppData\\Local\\Temp\\ipykernel_11712\\2419381969.py:11: FutureWarning: The default of observed=False is deprecated and will be changed to True in a future version of pandas. Pass observed=False to retain current behavior or observed=True to adopt the future default and silence this warning.\n",
            "  delay_agg = final_df.groupby(\"delivery_category\").agg(\n",
            "C:\\Users\\Hana\\AppData\\Local\\Temp\\ipykernel_11712\\2419381969.py:16: FutureWarning: The default of observed=False is deprecated and will be changed to True in a future version of pandas. Pass observed=False to retain current behavior or observed=True to adopt the future default and silence this warning.\n",
            "  delay_category_agg = final_df.groupby([\"product_category_name_english\", \"delivery_category\"]).agg(\n"
          ]
        },
        {
          "data": {
            "image/png": "[encoded data removed]",
            "text/plain": [
              "<Figure size 1200x600 with 1 Axes>"
            ]
          },
          "metadata": {},
          "output_type": "display_data"
        }
      ],
      "source": [
        "final_df[\"order_delivered_customer_date\"] = pd.to_datetime(final_df[\"order_delivered_customer_date\"])\n",
        "final_df[\"order_estimated_delivery_date\"] = pd.to_datetime(final_df[\"order_estimated_delivery_date\"])\n",
        "\n",
        "final_df[\"delivery_delay_days\"] = (final_df[\"order_delivered_customer_date\"] - final_df[\"order_estimated_delivery_date\"]).dt.days\n",
        "\n",
        "bins = [-999, 0, 3, 7, 999]\n",
        "labels = [\"Tepat Waktu\", \"Terlambat 1-3 hari\", \"Terlambat 4-7 hari\", \"Terlambat >7 hari\"]\n",
        "final_df[\"delivery_category\"] = pd.cut(final_df[\"delivery_delay_days\"], bins=bins, labels=labels)\n",
        "\n",
        "# by kategori keterlambatan\n",
        "delay_agg = final_df.groupby(\"delivery_category\").agg(\n",
        "    total_orders=(\"order_id\", \"count\")\n",
        ").reset_index()\n",
        "\n",
        "# by kategori product\n",
        "delay_category_agg = final_df.groupby([\"product_category_name_english\", \"delivery_category\"]).agg(\n",
        "    total_orders=(\"order_id\", \"count\")\n",
        ").reset_index()\n",
        "\n",
        "delay_counts = delay_category_agg.pivot(index=\"product_category_name_english\", columns=\"delivery_category\", values=\"total_orders\").fillna(0)\n",
        "\n",
        "top_10_categories = delay_counts.sum(axis=1).nlargest(10).index\n",
        "delay_counts_top10 = delay_counts.loc[top_10_categories]\n",
        "\n",
        "# Plot\n",
        "delay_counts_top10.plot(kind=\"bar\", stacked=True, figsize=(12, 6), colormap=\"coolwarm\")\n",
        "plt.xlabel(\"Kategori Produk\")\n",
        "plt.ylabel(\"Jumlah Keterlambatan\")\n",
        "plt.title(\"Pola Keterlambatan Pengiriman per Kategori Produk\")\n",
        "plt.legend(title=\"Kategori Keterlambatan\")\n",
        "plt.xticks(rotation=45)\n",
        "plt.show()\n"
      ]
    },
    {
      "cell_type": "code",
      "execution_count": null,
      "metadata": {
        "colab": {
          "base_uri": "https://localhost:8080/"
        },
        "id": "nfCBmnxHtX5w",
        "outputId": "07ee68ea-91a9-4ed7-bd10-ea4360bcaf6c"
      },
      "outputs": [],
      "source": [
        "!streamlit run dashboard/app.py"
      ]
    },
    {
      "cell_type": "markdown",
      "metadata": {
        "id": "_0-36BDLklRg"
      },
      "source": [
        "**Insight:**\n",
        "- 10 kategori dengan rating terbaik secara berturut-turut yaitu fashion_childrens_clothes, cds_dvds_musicals, books_general_interest, books_imported, construction_tools_tools, small_appliances_home_oven_and_coffee, flowers, books_technical, food_drink, fashion_sport.\n",
        "- 10 kategori dengan rating terburuk yaitu furniture_mattress_and_upholstery, home_confort, dan party_supplies, audio, fixed_telephony, home_comfort_2, office_furniture, diapers_and hygine, security_and_service."
      ]
    },
    {
      "cell_type": "markdown",
      "metadata": {
        "id": "_WeHlCeX8DC2"
      },
      "source": [
        "## Conclusion"
      ]
    },
    {
      "cell_type": "markdown",
      "metadata": {
        "id": "ZTcyR48Y8DC2"
      },
      "source": [
        "- Kategori dengan rating terbaik yaitu fashion_childrens_clothes menunjukkan bahwa konsumen merasa puas dengan produk-produk dalam kategori tersebut. \n",
        "- Kategori dengan rating terburuk yaitu furniture_mattress_and_upholstery dimungkinkan karena adanya masalah pada kualitas produk, layanan atau hal lain yang berkaitan dengan kepuasan pelanggan."
      ]
    }
  ],
  "metadata": {
    "colab": {
      "provenance": []
    },
    "kernelspec": {
      "display_name": "submission-MxIvPtlP",
      "language": "python",
      "name": "python3"
    },
    "language_info": {
      "codemirror_mode": {
        "name": "ipython",
        "version": 3
      },
      "file_extension": ".py",
      "mimetype": "text/x-python",
      "name": "python",
      "nbconvert_exporter": "python",
      "pygments_lexer": "ipython3",
      "version": "3.13.0"
    },
    "orig_nbformat": 4
  },
  "nbformat": 4,
  "nbformat_minor": 0
}
